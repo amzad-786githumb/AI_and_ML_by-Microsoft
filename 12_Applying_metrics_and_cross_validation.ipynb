{
  "nbformat": 4,
  "nbformat_minor": 0,
  "metadata": {
    "colab": {
      "provenance": [],
      "authorship_tag": "ABX9TyMl8W9jWt+Fy8jGuY2t8Gm3",
      "include_colab_link": true
    },
    "kernelspec": {
      "name": "python3",
      "display_name": "Python 3"
    },
    "language_info": {
      "name": "python"
    }
  },
  "cells": [
    {
      "cell_type": "markdown",
      "metadata": {
        "id": "view-in-github",
        "colab_type": "text"
      },
      "source": [
        "<a href=\"https://colab.research.google.com/github/amzad-786githumb/AI_and_ML_by-Microsoft/blob/main/12_Applying_metrics_and_cross_validation.ipynb\" target=\"_parent\"><img src=\"https://colab.research.google.com/assets/colab-badge.svg\" alt=\"Open In Colab\"/></a>"
      ]
    },
    {
      "cell_type": "markdown",
      "source": [
        "<h2>Tasks:</h2>\n",
        "\n",
        "\n",
        "*   **Implement cross-validation:** use cross-validation to ensure reliable model performance and avoid reliance on a single train-test split.\n",
        "*   **Apply evaluation metrics:** calculate and interpret key metrics such as accuracy, precision, recall, F1 score, and R-squared for classification and regression models.\n",
        "*   **Assess model performance:** use cross-validation with multiple metrics to gain a comprehensive understanding of how well a model generalizes to unseen data.\n",
        "\n"
      ],
      "metadata": {
        "id": "CkplV3ou5R0M"
      }
    },
    {
      "cell_type": "markdown",
      "source": [
        "<h3>1. Setting up your environment</h3>"
      ],
      "metadata": {
        "id": "Ez7VL1Jg6Kl0"
      }
    },
    {
      "cell_type": "code",
      "execution_count": 1,
      "metadata": {
        "colab": {
          "base_uri": "https://localhost:8080/"
        },
        "id": "7NILsPbV4_GE",
        "outputId": "bd95407c-aac6-48b6-960f-06303f875701"
      },
      "outputs": [
        {
          "output_type": "stream",
          "name": "stdout",
          "text": [
            "Requirement already satisfied: numpy in /usr/local/lib/python3.12/dist-packages (2.0.2)\n",
            "Requirement already satisfied: pandas in /usr/local/lib/python3.12/dist-packages (2.2.2)\n",
            "Requirement already satisfied: scikit-learn in /usr/local/lib/python3.12/dist-packages (1.6.1)\n",
            "Requirement already satisfied: python-dateutil>=2.8.2 in /usr/local/lib/python3.12/dist-packages (from pandas) (2.9.0.post0)\n",
            "Requirement already satisfied: pytz>=2020.1 in /usr/local/lib/python3.12/dist-packages (from pandas) (2025.2)\n",
            "Requirement already satisfied: tzdata>=2022.7 in /usr/local/lib/python3.12/dist-packages (from pandas) (2025.2)\n",
            "Requirement already satisfied: scipy>=1.6.0 in /usr/local/lib/python3.12/dist-packages (from scikit-learn) (1.16.2)\n",
            "Requirement already satisfied: joblib>=1.2.0 in /usr/local/lib/python3.12/dist-packages (from scikit-learn) (1.5.2)\n",
            "Requirement already satisfied: threadpoolctl>=3.1.0 in /usr/local/lib/python3.12/dist-packages (from scikit-learn) (3.6.0)\n",
            "Requirement already satisfied: six>=1.5 in /usr/local/lib/python3.12/dist-packages (from python-dateutil>=2.8.2->pandas) (1.17.0)\n"
          ]
        }
      ],
      "source": [
        "pip install numpy pandas scikit-learn"
      ]
    },
    {
      "cell_type": "markdown",
      "source": [
        "<h3>2. Importing required libraries</h3>"
      ],
      "metadata": {
        "id": "-xR_1LO66di4"
      }
    },
    {
      "cell_type": "code",
      "source": [
        "import numpy as np\n",
        "import pandas as pd\n",
        "from sklearn.model_selection import train_test_split, cross_val_score, KFold\n",
        "from sklearn.linear_model import LogisticRegression\n",
        "from sklearn.tree import DecisionTreeClassifier\n",
        "from sklearn.metrics import accuracy_score, precision_score, recall_score, f1_score, r2_score"
      ],
      "metadata": {
        "id": "cSrvw9SS6fLj"
      },
      "execution_count": 2,
      "outputs": []
    },
    {
      "cell_type": "markdown",
      "source": [
        "<h3>3. Loading and preparing the data</h3>"
      ],
      "metadata": {
        "id": "BVmbOfZb6yUQ"
      }
    },
    {
      "cell_type": "code",
      "source": [
        "# Sample dataset: Study hours, previous exam scores, and pass/fail labels\n",
        "data = {\n",
        "    'StudyHours': [1, 2, 3, 4, 5, 6, 7, 8, 9, 10],\n",
        "    'PrevExamScore': [30, 40, 45, 50, 60, 65, 70, 75, 80, 85],\n",
        "    'Pass': [0, 0, 0, 0, 0, 1, 1, 1, 1, 1]  # 0 = Fail, 1 = Pass\n",
        "}\n",
        "\n",
        "df = pd.DataFrame(data)\n",
        "\n",
        "# Features and target variable\n",
        "X = df[['StudyHours', 'PrevExamScore']]\n",
        "y = df['Pass']"
      ],
      "metadata": {
        "id": "-3Cue59O60Dg"
      },
      "execution_count": 3,
      "outputs": []
    },
    {
      "cell_type": "markdown",
      "source": [
        "<h3>4. Applying evaluation metrics without cross-validation</h3>"
      ],
      "metadata": {
        "id": "0u_pQn_M7OgB"
      }
    },
    {
      "cell_type": "code",
      "source": [
        "from sklearn.linear_model import LogisticRegression\n",
        "\n",
        "# Split the data into training and testing sets (80% training, 20% testing)\n",
        "X_train, X_test, y_train, y_test = train_test_split(X, y, test_size=0.2, random_state=42)\n",
        "\n",
        "# Initialize and train the Logistic Regression model\n",
        "model = LogisticRegression()\n",
        "model.fit(X_train, y_train)\n",
        "\n",
        "# Make predictions on the test set\n",
        "y_pred = model.predict(X_test)"
      ],
      "metadata": {
        "id": "11phC9ll7Rdp"
      },
      "execution_count": 4,
      "outputs": []
    },
    {
      "cell_type": "code",
      "source": [
        "# Calculate metrics\n",
        "accuracy = accuracy_score(y_test, y_pred)\n",
        "precision = precision_score(y_test, y_pred)\n",
        "recall = recall_score(y_test, y_pred)\n",
        "f1 = f1_score(y_test, y_pred)\n",
        "\n",
        "print(f'Accuracy: {accuracy}')\n",
        "print(f'Precision: {precision}')\n",
        "print(f'Recall: {recall}')\n",
        "print(f'F1-Score: {f1}')"
      ],
      "metadata": {
        "colab": {
          "base_uri": "https://localhost:8080/"
        },
        "id": "NsC4Ik4F8EGd",
        "outputId": "3dd59718-691f-4c6e-b585-59e31aacd97c"
      },
      "execution_count": 5,
      "outputs": [
        {
          "output_type": "stream",
          "name": "stdout",
          "text": [
            "Accuracy: 1.0\n",
            "Precision: 1.0\n",
            "Recall: 1.0\n",
            "F1-Score: 1.0\n"
          ]
        }
      ]
    },
    {
      "cell_type": "markdown",
      "source": [
        "<h3>5. Introducing cross-validation</h3>"
      ],
      "metadata": {
        "id": "i361dGa-8qRe"
      }
    },
    {
      "cell_type": "markdown",
      "source": [
        "While the above method works, it’s limited by the single train-test split, which could lead to overfitting or underfitting. To get a more reliable performance estimate, use cross-validation. (cross-validation allows you to split the dataset into multiple subsets and reliably calculate model performance).\n",
        "\n",
        "Cross-validation involves splitting the data into multiple folds, training the model on some folds, and testing it on the remaining folds. The process is repeated for each fold, and the average performance is taken across all folds."
      ],
      "metadata": {
        "id": "bCDuJ4zY88L3"
      }
    },
    {
      "cell_type": "markdown",
      "source": [
        "<h3>6. Performing k-fold cross-validation</h3>"
      ],
      "metadata": {
        "id": "aQWE7Zwn9AF-"
      }
    },
    {
      "cell_type": "code",
      "source": [
        "from sklearn.model_selection import cross_val_score\n",
        "\n",
        "#Initialize the model\n",
        "model = LogisticRegression()\n",
        "\n",
        "#perform 5- fold cross validation and calculate the score\n",
        "cv_scores = cross_val_score(model, X, y, cv=5, scoring='accuracy')\n",
        "\n",
        "# Display the accuracy for each fold and the mean accuracy\n",
        "print(f'Cross-validation accuracies: {cv_scores}')\n",
        "print(f'Mean cross-validation accuracy: {np.mean(cv_scores)}')"
      ],
      "metadata": {
        "colab": {
          "base_uri": "https://localhost:8080/"
        },
        "id": "khewoGEH8s3Y",
        "outputId": "a176016e-416a-48fe-f8f6-768fd6860971"
      },
      "execution_count": 7,
      "outputs": [
        {
          "output_type": "stream",
          "name": "stdout",
          "text": [
            "Cross-validation accuracies: [1.  1.  1.  1.  0.5]\n",
            "Mean cross-validation accuracy: 0.9\n"
          ]
        }
      ]
    },
    {
      "cell_type": "markdown",
      "source": [
        "<h3>7. Cross-validation with multiple metrics</h3>"
      ],
      "metadata": {
        "id": "AXDnUp0k-Fme"
      }
    },
    {
      "cell_type": "code",
      "source": [
        "from sklearn.model_selection import cross_validate\n",
        "\n",
        "#define the multiple scoring method\n",
        "scoring = ['accuracy', 'precision', 'recall', 'f1']\n",
        "\n",
        "# Perform cross-validation\n",
        "cv_results = cross_validate(model, X, y, cv=5, scoring=scoring)\n",
        "\n",
        "# Print results for each metric\n",
        "print(f\"Cross-validation Accuracy: {np.mean(cv_results['test_accuracy'])}\")\n",
        "print(f\"Cross-validation Precision: {np.mean(cv_results['test_precision'])}\")\n",
        "print(f\"Cross-validation Recall: {np.mean(cv_results['test_recall'])}\")\n",
        "print(f\"Cross-validation F1-Score: {np.mean(cv_results['test_f1'])}\")\n",
        "\n"
      ],
      "metadata": {
        "colab": {
          "base_uri": "https://localhost:8080/"
        },
        "id": "fRrZ-oy9-Hw7",
        "outputId": "54ea988f-fe80-4e5f-81e1-13d4033915af"
      },
      "execution_count": 9,
      "outputs": [
        {
          "output_type": "stream",
          "name": "stdout",
          "text": [
            "Cross-validation Accuracy: 0.9\n",
            "Cross-validation Precision: 0.9\n",
            "Cross-validation Recall: 1.0\n",
            "Cross-validation F1-Score: 0.9333333333333333\n"
          ]
        }
      ]
    },
    {
      "cell_type": "markdown",
      "source": [
        "<h3>8. Cross-validation with a regression model</h3>"
      ],
      "metadata": {
        "id": "hmjcKCBrAd7K"
      }
    },
    {
      "cell_type": "code",
      "source": [
        "from sklearn.linear_model import LinearRegression\n",
        "from sklearn.metrics import mean_squared_error, mean_absolute_error, r2_score\n",
        "\n",
        "# Sample dataset for regression\n",
        "X_reg = df[['StudyHours']]\n",
        "y_reg = df['PrevExamScore']\n",
        "\n",
        "# Initialize a linear regression model\n",
        "reg_model = LinearRegression()\n",
        "\n",
        "# Perform 5-fold cross-validation using R-squared as the metric\n",
        "cv_scores_r2 = cross_val_score(reg_model, X_reg, y_reg, cv=5, scoring='r2')\n",
        "\n",
        "print(f'Cross-validation R-squared scores: {cv_scores_r2}')\n",
        "print(f'Mean R-squared score: {np.mean(cv_scores_r2)}')"
      ],
      "metadata": {
        "colab": {
          "base_uri": "https://localhost:8080/"
        },
        "id": "wKMO_7nLARZN",
        "outputId": "b927f6be-768a-4cda-a5f1-60e90e7a1506"
      },
      "execution_count": 10,
      "outputs": [
        {
          "output_type": "stream",
          "name": "stdout",
          "text": [
            "Cross-validation R-squared scores: [ 0.52933673  0.88503086 -0.60298929  0.88503086 -1.28939909]\n",
            "Mean R-squared score: 0.08140201560607148\n"
          ]
        }
      ]
    }
  ]
}