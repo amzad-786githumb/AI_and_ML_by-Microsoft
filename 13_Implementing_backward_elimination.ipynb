{
  "nbformat": 4,
  "nbformat_minor": 0,
  "metadata": {
    "colab": {
      "provenance": [],
      "authorship_tag": "ABX9TyNE9dHCxtMgP5plIfU01oGu",
      "include_colab_link": true
    },
    "kernelspec": {
      "name": "python3",
      "display_name": "Python 3"
    },
    "language_info": {
      "name": "python"
    }
  },
  "cells": [
    {
      "cell_type": "markdown",
      "metadata": {
        "id": "view-in-github",
        "colab_type": "text"
      },
      "source": [
        "<a href=\"https://colab.research.google.com/github/amzad-786githumb/AI_and_ML_by-Microsoft/blob/main/13_Implementing_backward_elimination.ipynb\" target=\"_parent\"><img src=\"https://colab.research.google.com/assets/colab-badge.svg\" alt=\"Open In Colab\"/></a>"
      ]
    },
    {
      "cell_type": "markdown",
      "source": [
        "<h2>Tasks:</h2>\n",
        "\n",
        "\n",
        "*   **Implement backward elimination:** identify and remove the least significant features from a dataset.\n",
        "*   **Apply statistical modeling:** fit a linear regression model using the statsmodels library and interpret the p-values to determine feature significance.\n",
        "*   **Refine and simplify models:** analyze the impact of removing irrelevant features on model performance and interpret the results to improve model efficiency.\n"
      ],
      "metadata": {
        "id": "gJuJdlMRboiy"
      }
    },
    {
      "cell_type": "markdown",
      "source": [
        "<h3>Step 1: Import the required libraries</h3>"
      ],
      "metadata": {
        "id": "Lwmm4u3LcHf9"
      }
    },
    {
      "cell_type": "code",
      "metadata": {
        "id": "8cd879a1"
      },
      "source": [
        "import pandas as pd\n",
        "import statsmodels.api as sm\n",
        "from sklearn.model_selection import train_test_split"
      ],
      "execution_count": 7,
      "outputs": []
    },
    {
      "cell_type": "markdown",
      "source": [
        "<h3>Step 2: Load and prepare the data</h3>"
      ],
      "metadata": {
        "id": "jiCY5Mz6kxJO"
      }
    },
    {
      "cell_type": "code",
      "metadata": {
        "id": "65b2a02d"
      },
      "source": [
        "# Sample dataset\n",
        "data = {\n",
        "    'StudyHours': [1, 2, 3, 4, 5, 6, 7, 8, 9, 10],\n",
        "    'PrevExamScore': [30, 40, 45, 50, 60, 65, 70, 75, 80, 85],\n",
        "    'Pass': [0, 0, 0, 0, 0, 1, 1, 1, 1, 1]  # 0 = Fail, 1 = Pass\n",
        "}\n",
        "\n",
        "df = pd.DataFrame(data)\n",
        "\n",
        "# Features and target variable\n",
        "X = df[['StudyHours', 'PrevExamScore']]\n",
        "y = df['Pass']"
      ],
      "execution_count": 8,
      "outputs": []
    },
    {
      "cell_type": "markdown",
      "source": [
        "<h3>Step 3: Add a constant to the model</h3>"
      ],
      "metadata": {
        "id": "Qm-t_Kvkd5kz"
      }
    },
    {
      "cell_type": "code",
      "source": [
        "#add a constant to a variable(for intercept)\n",
        "\n",
        "X = sm.add_constant(X)"
      ],
      "metadata": {
        "id": "AoanqAxHd9Uy"
      },
      "execution_count": 9,
      "outputs": []
    },
    {
      "cell_type": "markdown",
      "source": [
        "<h3>Step 4: Fit the initial model<h3>"
      ],
      "metadata": {
        "id": "EakkThDNgTEB"
      }
    },
    {
      "cell_type": "code",
      "source": [
        "#fit the model using the Ordinany Least Square(OLS) regression\n",
        "\n",
        "model = sm.OLS(y, X).fit()\n",
        "\n",
        "#Display the ssummary\n",
        "print(model.summary())"
      ],
      "metadata": {
        "colab": {
          "base_uri": "https://localhost:8080/"
        },
        "id": "ethO8CkJgbUT",
        "outputId": "551d03e5-2ef0-4514-8b6d-1a95ce07201b"
      },
      "execution_count": 11,
      "outputs": [
        {
          "output_type": "stream",
          "name": "stdout",
          "text": [
            "                            OLS Regression Results                            \n",
            "==============================================================================\n",
            "Dep. Variable:                   Pass   R-squared:                       0.758\n",
            "Model:                            OLS   Adj. R-squared:                  0.688\n",
            "Method:                 Least Squares   F-statistic:                     10.94\n",
            "Date:                Tue, 07 Oct 2025   Prob (F-statistic):            0.00701\n",
            "Time:                        07:35:26   Log-Likelihood:               -0.17258\n",
            "No. Observations:                  10   AIC:                             6.345\n",
            "Df Residuals:                       7   BIC:                             7.253\n",
            "Df Model:                           2                                         \n",
            "Covariance Type:            nonrobust                                         \n",
            "=================================================================================\n",
            "                    coef    std err          t      P>|t|      [0.025      0.975]\n",
            "---------------------------------------------------------------------------------\n",
            "const            -0.3333      1.464     -0.228      0.826      -3.796       3.129\n",
            "StudyHours        0.1515      0.324      0.468      0.654      -0.615       0.918\n",
            "PrevExamScore -3.053e-16      0.054  -5.68e-15      1.000      -0.127       0.127\n",
            "==============================================================================\n",
            "Omnibus:                        0.086   Durbin-Watson:                   1.491\n",
            "Prob(Omnibus):                  0.958   Jarque-Bera (JB):                0.311\n",
            "Skew:                           0.000   Prob(JB):                        0.856\n",
            "Kurtosis:                       2.136   Cond. No.                     1.01e+03\n",
            "==============================================================================\n",
            "\n",
            "Notes:\n",
            "[1] Standard Errors assume that the covariance matrix of the errors is correctly specified.\n",
            "[2] The condition number is large, 1.01e+03. This might indicate that there are\n",
            "strong multicollinearity or other numerical problems.\n"
          ]
        }
      ]
    },
    {
      "cell_type": "markdown",
      "source": [
        "<h3>Step 5: Implement backward elimination</h3>"
      ],
      "metadata": {
        "id": "t56kEgErmXYk"
      }
    },
    {
      "cell_type": "markdown",
      "source": [
        "**Step-by-step process:**\n",
        "\n",
        "1. Fit the model with all features.\n",
        "\n",
        "2. Identify the feature with the highest p-value.\n",
        "\n",
        "3. Remove the feature with the highest p-value.\n",
        "\n",
        "4. Refit the model and repeat until all remaining features are statistically significant."
      ],
      "metadata": {
        "id": "qwFk3Dz4miVs"
      }
    },
    {
      "cell_type": "code",
      "source": [
        "# Define a significance level\n",
        "significance_level = 0.05\n",
        "\n",
        "# Perform backward elimination\n",
        "while True:\n",
        "    # Fit the model\n",
        "    model = sm.OLS(y, X).fit()\n",
        "    # Get the highest p-value in the model\n",
        "    max_p_value = model.pvalues.max()\n",
        "\n",
        "    # Check if the highest p-value is greater than the significance level\n",
        "    if max_p_value > significance_level:\n",
        "        # Identify the feature with the highest p-value\n",
        "        feature_to_remove = model.pvalues.idxmax()\n",
        "        print(f\"Removing feature: {feature_to_remove} with p-value: {max_p_value}\")\n",
        "\n",
        "        # Drop the feature\n",
        "        X = X.drop(columns=[feature_to_remove])\n",
        "    else:\n",
        "        break\n",
        "\n",
        "#Features to remove\n",
        "print(\"Features to remove:\")\n",
        "print(X.columns[1:])\n",
        "# Display the final model summary\n",
        "print(model.summary())"
      ],
      "metadata": {
        "colab": {
          "base_uri": "https://localhost:8080/"
        },
        "id": "91CJr4tXijXO",
        "outputId": "3b1489c3-c057-4c46-b43e-f4b9d1c90c83"
      },
      "execution_count": 13,
      "outputs": [
        {
          "output_type": "stream",
          "name": "stdout",
          "text": [
            "Features to remove:\n",
            "Index([], dtype='object')\n",
            "                                 OLS Regression Results                                \n",
            "=======================================================================================\n",
            "Dep. Variable:                   Pass   R-squared (uncentered):                   0.831\n",
            "Model:                            OLS   Adj. R-squared (uncentered):              0.812\n",
            "Method:                 Least Squares   F-statistic:                              44.31\n",
            "Date:                Tue, 07 Oct 2025   Prob (F-statistic):                    9.31e-05\n",
            "Time:                        07:39:13   Log-Likelihood:                         -1.8294\n",
            "No. Observations:                  10   AIC:                                      5.659\n",
            "Df Residuals:                       9   BIC:                                      5.961\n",
            "Df Model:                           1                                                  \n",
            "Covariance Type:            nonrobust                                                  \n",
            "==============================================================================\n",
            "                 coef    std err          t      P>|t|      [0.025      0.975]\n",
            "------------------------------------------------------------------------------\n",
            "StudyHours     0.1039      0.016      6.656      0.000       0.069       0.139\n",
            "==============================================================================\n",
            "Omnibus:                        0.710   Durbin-Watson:                   1.054\n",
            "Prob(Omnibus):                  0.701   Jarque-Bera (JB):                0.557\n",
            "Skew:                          -0.000   Prob(JB):                        0.757\n",
            "Kurtosis:                       1.844   Cond. No.                         1.00\n",
            "==============================================================================\n",
            "\n",
            "Notes:\n",
            "[1] R² is computed without centering (uncentered) since the model does not contain a constant.\n",
            "[2] Standard Errors assume that the covariance matrix of the errors is correctly specified.\n"
          ]
        }
      ]
    },
    {
      "cell_type": "markdown",
      "source": [
        "<h3>Step 6: Analyze the results</h3>"
      ],
      "metadata": {
        "id": "aPIq3GkEnIy7"
      }
    },
    {
      "cell_type": "markdown",
      "source": [
        "After completing the backward elimination process, we examined the final model summary. The remaining features in the model should all have p-values below 0.05, indicating that they are statistically significant predictors of the target variable.\n",
        "\n",
        "In this case, PrevExamScore was the remaining feature after backward elimination, as it had a statistically significant p-value (less than 0.05). The feature StudyHours was removed because its p-value exceeded the significance threshold."
      ],
      "metadata": {
        "id": "Uq1UJjygns3D"
      }
    },
    {
      "cell_type": "code",
      "source": [],
      "metadata": {
        "id": "bJoIZDgHn9oh"
      },
      "execution_count": null,
      "outputs": []
    }
  ]
}