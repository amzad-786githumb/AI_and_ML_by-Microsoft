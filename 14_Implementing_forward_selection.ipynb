{
  "nbformat": 4,
  "nbformat_minor": 0,
  "metadata": {
    "colab": {
      "provenance": [],
      "authorship_tag": "ABX9TyPEuqL+xwUv+BPjhgOXV67U",
      "include_colab_link": true
    },
    "kernelspec": {
      "name": "python3",
      "display_name": "Python 3"
    },
    "language_info": {
      "name": "python"
    }
  },
  "cells": [
    {
      "cell_type": "markdown",
      "metadata": {
        "id": "view-in-github",
        "colab_type": "text"
      },
      "source": [
        "<a href=\"https://colab.research.google.com/github/amzad-786githumb/AI_and_ML_by-Microsoft/blob/main/14_Implementing_forward_selection.ipynb\" target=\"_parent\"><img src=\"https://colab.research.google.com/assets/colab-badge.svg\" alt=\"Open In Colab\"/></a>"
      ]
    },
    {
      "cell_type": "markdown",
      "source": [
        "<h2>Tasks:</h2>\n",
        "\n",
        "\n",
        "*   **Implement forward selection:** Apply forward selection to add the most significant features to an ML model, enhancing its predictive power.\n",
        "*   **Evaluate model performance:** Use the R-squared metric to assess the impact of each feature on the model's performance during the selection process.\n",
        "*   **Build an efficient model:** Identify and include only the most relevant features, improving model efficiency and interpretability.\n"
      ],
      "metadata": {
        "id": "gJuJdlMRboiy"
      }
    },
    {
      "cell_type": "markdown",
      "source": [
        "<h3>Step 1: Import the required libraries</h3>"
      ],
      "metadata": {
        "id": "Lwmm4u3LcHf9"
      }
    },
    {
      "cell_type": "code",
      "metadata": {
        "id": "8cd879a1"
      },
      "source": [
        "import pandas as pd\n",
        "from sklearn.linear_model import LinearRegression\n",
        "from sklearn.model_selection import train_test_split\n",
        "from sklearn.metrics import r2_score"
      ],
      "execution_count": 2,
      "outputs": []
    },
    {
      "cell_type": "markdown",
      "source": [
        "<h3>Step 2: Load and prepare the data</h3>"
      ],
      "metadata": {
        "id": "jiCY5Mz6kxJO"
      }
    },
    {
      "cell_type": "code",
      "metadata": {
        "id": "65b2a02d"
      },
      "source": [
        "# Sample dataset: Study hours, previous exam scores, and pass/fail labels\n",
        "data = {\n",
        "    'StudyHours': [1, 2, 3, 4, 5, 6, 7, 8, 9, 10],\n",
        "    'PrevExamScore': [30, 40, 45, 50, 60, 65, 70, 75, 80, 85],\n",
        "    'Pass': [0, 0, 0, 0, 0, 1, 1, 1, 1, 1]  # 0 = Fail, 1 = Pass\n",
        "}\n",
        "\n",
        "df = pd.DataFrame(data)\n",
        "\n",
        "# Features and target variable\n",
        "X = df[['StudyHours', 'PrevExamScore']]\n",
        "y = df['Pass']"
      ],
      "execution_count": 3,
      "outputs": []
    },
    {
      "cell_type": "markdown",
      "source": [
        "<h3>3. Implementing forward selection<h3>\n",
        "\n",
        "\n",
        "\n",
        "\n",
        "\n"
      ],
      "metadata": {
        "id": "EakkThDNgTEB"
      }
    },
    {
      "cell_type": "markdown",
      "source": [
        "**Step-by-step process:**\n",
        "\n",
        "1. Start with an empty model (no features).\n",
        "\n",
        "2. For each feature, train a model, and evaluate its performance using R-squared.\n",
        "\n",
        "3. Add the feature that improves the R-squared value the most.\n",
        "\n",
        "4. Repeat the process, adding features one by one until no further improvement is made."
      ],
      "metadata": {
        "id": "qwFk3Dz4miVs"
      }
    },
    {
      "cell_type": "code",
      "source": [
        "def forward_selection(X, y):\n",
        "    remaining_features = set(X.columns)\n",
        "    selected_features = []\n",
        "    current_score = 0.0\n",
        "    best_score = 0.0\n",
        "\n",
        "    while remaining_features:\n",
        "        scores_with_candidates = []\n",
        "\n",
        "        # Loop through remaining features\n",
        "        for feature in remaining_features:\n",
        "            features_to_test = selected_features + [feature]\n",
        "            X_train, X_test, y_train, y_test = train_test_split(X[features_to_test], y, test_size=0.2, random_state=42)\n",
        "\n",
        "            # Train the model\n",
        "            model = LinearRegression()\n",
        "            model.fit(X_train, y_train)\n",
        "\n",
        "            # Make predictions and calculate R-squared\n",
        "            y_pred = model.predict(X_test)\n",
        "            score = r2_score(y_test, y_pred)\n",
        "\n",
        "            # Record the score with the current feature\n",
        "            scores_with_candidates.append((score, feature))\n",
        "\n",
        "        # Sort candidates by score (highest score first)\n",
        "        scores_with_candidates.sort(reverse=True)\n",
        "        best_score, best_feature = scores_with_candidates[0]\n",
        "\n",
        "        # If adding the feature improves the score, add it to the model\n",
        "        if current_score < best_score:\n",
        "            remaining_features.remove(best_feature)\n",
        "            selected_features.append(best_feature)\n",
        "            current_score = best_score\n",
        "        else:\n",
        "            break\n",
        "\n",
        "    return selected_features\n",
        "\n",
        "# Run forward selection\n",
        "best_features = forward_selection(X, y)\n",
        "print(\"Selected features using Forward Selection:\", best_features)"
      ],
      "metadata": {
        "colab": {
          "base_uri": "https://localhost:8080/"
        },
        "id": "91CJr4tXijXO",
        "outputId": "24029951-c124-41ef-da7b-d2f14eaf671f"
      },
      "execution_count": 5,
      "outputs": [
        {
          "output_type": "stream",
          "name": "stdout",
          "text": [
            "Selected features using Forward Selection: ['PrevExamScore']\n"
          ]
        }
      ]
    },
    {
      "cell_type": "markdown",
      "source": [
        "<h3>4. Explaining the process</h3>"
      ],
      "metadata": {
        "id": "n9PRVOsCwmeh"
      }
    },
    {
      "cell_type": "markdown",
      "source": [
        "**How forward selection works**\n",
        "\n",
        "1. **Initialize with no features:** The process begins with an empty set of features.\n",
        "\n",
        "2. **Evaluate each feature:** At each iteration, the model is trained with one additional feature at a time, and the R-squared value is calculated.\n",
        "\n",
        "3. **Add the best feature:** The feature that provides the highest improvement in R-squared is added to the model.\n",
        "\n",
        "4. **Repeat:** The process repeats by adding the next best feature until no further improvement can be made.\n",
        "\n",
        "**Metrics used**\n",
        "\n",
        "**R-squared (coefficient of determination):** This metric shows how much of the variance in the target variable is explained by the features. The higher the R-squared, the better the model explains the data."
      ],
      "metadata": {
        "id": "qzpsl4ifwyqn"
      }
    },
    {
      "cell_type": "markdown",
      "source": [
        "<h3>Step 6: Analyze the results</h3>"
      ],
      "metadata": {
        "id": "aPIq3GkEnIy7"
      }
    },
    {
      "cell_type": "code",
      "source": [
        "X_train, X_test, y_train, y_test = train_test_split(X[best_features], y, test_size=0.2, random_state=42)\n",
        "model = LinearRegression()\n",
        "model.fit(X_train, y_train)\n",
        "y_pred = model.predict(X_test)\n",
        "final_r2_score = r2_score(y_test, y_pred)\n",
        "\n",
        "print(f'Final R-squared score with selected features: {final_r2_score}')"
      ],
      "metadata": {
        "colab": {
          "base_uri": "https://localhost:8080/"
        },
        "id": "LZSUJyEwySQW",
        "outputId": "bfb36f4c-3c39-4fd5-b284-e777a1f9069a"
      },
      "execution_count": 7,
      "outputs": [
        {
          "output_type": "stream",
          "name": "stdout",
          "text": [
            "Final R-squared score with selected features: 1.0\n"
          ]
        }
      ]
    },
    {
      "cell_type": "markdown",
      "source": [
        "In this case, PrevExamScore was the feature that provided the most improvement in the model's performance. The forward selection algorithm determined that adding StudyHours did not significantly improve the model’s R-squared, so only PrevExamScore was selected."
      ],
      "metadata": {
        "id": "Uq1UJjygns3D"
      }
    }
  ]
}