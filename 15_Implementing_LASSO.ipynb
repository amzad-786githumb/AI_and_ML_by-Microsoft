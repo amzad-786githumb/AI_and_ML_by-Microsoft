{
  "nbformat": 4,
  "nbformat_minor": 0,
  "metadata": {
    "colab": {
      "provenance": [],
      "authorship_tag": "ABX9TyNlG2SngZ/RsqMoTJ5+S3+q",
      "include_colab_link": true
    },
    "kernelspec": {
      "name": "python3",
      "display_name": "Python 3"
    },
    "language_info": {
      "name": "python"
    }
  },
  "cells": [
    {
      "cell_type": "markdown",
      "metadata": {
        "id": "view-in-github",
        "colab_type": "text"
      },
      "source": [
        "<a href=\"https://colab.research.google.com/github/amzad-786githumb/AI_and_ML_by-Microsoft/blob/main/15_Implementing_LASSO.ipynb\" target=\"_parent\"><img src=\"https://colab.research.google.com/assets/colab-badge.svg\" alt=\"Open In Colab\"/></a>"
      ]
    },
    {
      "cell_type": "markdown",
      "source": [
        "<h2>Tasks:</h2>\n",
        "\n",
        "\n",
        "*   **Implement LASSO regression:** Apply LASSO to perform feature selection and regularization in an ML model.\n",
        "*   **Adjust regularization strength:** Experiment with different values of the regularization parameter (alpha) to understand its impact on model complexity and performance.\n",
        "*   **Interpret LASSO results:** Analyze the coefficients of the features to identify which ones are most relevant and how LASSO helps in simplifying the model.\n"
      ],
      "metadata": {
        "id": "gJuJdlMRboiy"
      }
    },
    {
      "cell_type": "markdown",
      "source": [
        "<h3>Step 1: Import the required libraries</h3>"
      ],
      "metadata": {
        "id": "Lwmm4u3LcHf9"
      }
    },
    {
      "cell_type": "code",
      "metadata": {
        "id": "8cd879a1"
      },
      "source": [
        "import pandas as pd\n",
        "from sklearn.linear_model import Lasso\n",
        "from sklearn.model_selection import train_test_split\n",
        "from sklearn.metrics import r2_score"
      ],
      "execution_count": 1,
      "outputs": []
    },
    {
      "cell_type": "markdown",
      "source": [
        "<h3>Step 2: Load and prepare the data</h3>"
      ],
      "metadata": {
        "id": "jiCY5Mz6kxJO"
      }
    },
    {
      "cell_type": "code",
      "metadata": {
        "id": "65b2a02d"
      },
      "source": [
        "# Sample dataset: Study hours, previous exam scores, and pass/fail labels\n",
        "data = {\n",
        "    'StudyHours': [1, 2, 3, 4, 5, 6, 7, 8, 9, 10],\n",
        "    'PrevExamScore': [30, 40, 45, 50, 60, 65, 70, 75, 80, 85],\n",
        "    'Pass': [0, 0, 0, 0, 0, 1, 1, 1, 1, 1]  # 0 = Fail, 1 = Pass\n",
        "}\n",
        "\n",
        "df = pd.DataFrame(data)\n",
        "\n",
        "# Features and target variable\n",
        "X = df[['StudyHours', 'PrevExamScore']]  # Features\n",
        "y = df['Pass']  # Target variable"
      ],
      "execution_count": 2,
      "outputs": []
    },
    {
      "cell_type": "markdown",
      "source": [
        "<h3>3. Splitting the data</h3>"
      ],
      "metadata": {
        "id": "u92rturEByml"
      }
    },
    {
      "cell_type": "code",
      "source": [
        "# Split the data into training and testing sets (80% training, 20% testing)\n",
        "X_train, X_test, y_train, y_test = train_test_split(X, y, test_size=0.2, random_state=42)"
      ],
      "metadata": {
        "id": "jlg_n5knB3n1"
      },
      "execution_count": 3,
      "outputs": []
    },
    {
      "cell_type": "markdown",
      "source": [
        "<h3>4. Applying LASSO<h3>\n",
        "\n",
        "\n",
        "\n",
        "\n",
        "\n"
      ],
      "metadata": {
        "id": "EakkThDNgTEB"
      }
    },
    {
      "cell_type": "markdown",
      "source": [
        "LASSO applies L1 regularization, which adds a penalty term to the loss function. This penalization causes less important feature coefficients to shrink to zero, effectively selecting only the most relevant features for the model."
      ],
      "metadata": {
        "id": "irUYZIaoCI8u"
      }
    },
    {
      "cell_type": "markdown",
      "source": [
        "**Step-by-step process:**\n",
        "\n",
        "1. **Initialize the LASSO model:** Specify a value for the regularization parameter alpha.\n",
        "2. **Train the model:** Use the training data to fit the LASSO model.\n",
        "3. **Evaluate the model:** Use the test data to make predictions and calculate the performance of the model using R-squared."
      ],
      "metadata": {
        "id": "qwFk3Dz4miVs"
      }
    },
    {
      "cell_type": "code",
      "source": [
        "#Initialize the LASSO model with alpha\n",
        "lasso_model = Lasso(alpha=0.1)\n",
        "\n",
        "#Train the model on training\n",
        "lasso_model.fit(X_train, y_train)\n",
        "\n",
        "#Make predictions on the test data\n",
        "y_pred = lasso_model.predict(X_test)\n",
        "\n",
        "#Evaluate the model's performance using R-squared\n",
        "r2 = r2_score(y_test, y_test)\n",
        "print(f'R-sqaued score: {r2}')"
      ],
      "metadata": {
        "colab": {
          "base_uri": "https://localhost:8080/"
        },
        "id": "91CJr4tXijXO",
        "outputId": "e3ace3ea-1ea5-42bc-da82-69458ecddf8b"
      },
      "execution_count": 4,
      "outputs": [
        {
          "output_type": "stream",
          "name": "stdout",
          "text": [
            "R-sqaued score: 1.0\n"
          ]
        }
      ]
    },
    {
      "cell_type": "markdown",
      "source": [
        "<h3>6. Analyzing the results</h3>"
      ],
      "metadata": {
        "id": "n9PRVOsCwmeh"
      }
    },
    {
      "cell_type": "code",
      "source": [
        "# Display the coefficients of the features\n",
        "print(f'LASSO Coefficients: {lasso_model.coef_}')"
      ],
      "metadata": {
        "colab": {
          "base_uri": "https://localhost:8080/"
        },
        "id": "ymg1-TnENpOD",
        "outputId": "30e41f33-6c9e-425e-b3b2-a5274037e481"
      },
      "execution_count": 5,
      "outputs": [
        {
          "output_type": "stream",
          "name": "stdout",
          "text": [
            "LASSO Coefficients: [0.         0.02463636]\n"
          ]
        }
      ]
    },
    {
      "cell_type": "markdown",
      "source": [
        "\n",
        "\n",
        "*   The coefficient for StudyHours is 0, meaning it was removed from the model.\n",
        "*   The coefficient for PrevExamScore is nonzero, meaning it was retained in the model.\n",
        "\n",
        "\n"
      ],
      "metadata": {
        "id": "KRmEp2egNwBq"
      }
    },
    {
      "cell_type": "markdown",
      "source": [
        "<h3>7. Tuning the regularization parameter</h3>"
      ],
      "metadata": {
        "id": "aPIq3GkEnIy7"
      }
    },
    {
      "cell_type": "code",
      "source": [
        "#Try different alpha values and comparing the results\n",
        "\n",
        "for alpha in [0.01, 0.05, 0.1, 0.5, 1]:\n",
        "  lasso_model = Lasso(alpha=alpha)\n",
        "  lasso_model.fit(X_train, y_train)\n",
        "  lasso_model.predict(X_test)\n",
        "  r2 = r2_score(y_test, y_pred)\n",
        "  print(f'Alpha: {alpha}, R-squared: {r2}, Coefficients: {lasso_model.coef_}')\n"
      ],
      "metadata": {
        "colab": {
          "base_uri": "https://localhost:8080/"
        },
        "id": "LZSUJyEwySQW",
        "outputId": "8a5a50e8-7bf5-4088-ef2e-92cbac145cad"
      },
      "execution_count": 7,
      "outputs": [
        {
          "output_type": "stream",
          "name": "stdout",
          "text": [
            "Alpha: 0.01, R-squared: 0.9997884297520662, Coefficients: [0.08153909 0.01180619]\n",
            "Alpha: 0.05, R-squared: 0.9997884297520662, Coefficients: [0.         0.02481818]\n",
            "Alpha: 0.1, R-squared: 0.9997884297520662, Coefficients: [0.         0.02463636]\n",
            "Alpha: 0.5, R-squared: 0.9997884297520662, Coefficients: [0.         0.02318182]\n",
            "Alpha: 1, R-squared: 0.9997884297520662, Coefficients: [0.         0.02136364]\n"
          ]
        }
      ]
    },
    {
      "cell_type": "markdown",
      "source": [
        "*  Lower alpha values keep more features in the model but may lead to overfitting.\n",
        "\n",
        "*  Higher alpha values simplify the model but may reduce its accuracy."
      ],
      "metadata": {
        "id": "Uq1UJjygns3D"
      }
    },
    {
      "cell_type": "code",
      "source": [],
      "metadata": {
        "id": "9jSDa4C5QJ0h"
      },
      "execution_count": null,
      "outputs": []
    }
  ]
}