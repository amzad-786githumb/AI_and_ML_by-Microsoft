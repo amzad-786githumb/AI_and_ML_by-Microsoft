{
  "nbformat": 4,
  "nbformat_minor": 0,
  "metadata": {
    "colab": {
      "provenance": [],
      "authorship_tag": "ABX9TyM0DsojOyQW1pWdbQx/khv7",
      "include_colab_link": true
    },
    "kernelspec": {
      "name": "python3",
      "display_name": "Python 3"
    },
    "language_info": {
      "name": "python"
    }
  },
  "cells": [
    {
      "cell_type": "markdown",
      "metadata": {
        "id": "view-in-github",
        "colab_type": "text"
      },
      "source": [
        "<a href=\"https://colab.research.google.com/github/amzad-786githumb/AI_and_ML_by-Microsoft/blob/main/1_Preprocessing.ipynb\" target=\"_parent\"><img src=\"https://colab.research.google.com/assets/colab-badge.svg\" alt=\"Open In Colab\"/></a>"
      ]
    },
    {
      "cell_type": "markdown",
      "source": [
        "<h2>1. Loading the dummy data</h2>"
      ],
      "metadata": {
        "id": "bnnucvlbLCkM"
      }
    },
    {
      "cell_type": "code",
      "execution_count": null,
      "metadata": {
        "id": "HBUnDNq2K5Sj"
      },
      "outputs": [],
      "source": [
        "import pandas as pd\n",
        "import numpy as np"
      ]
    },
    {
      "cell_type": "code",
      "source": [
        "# Create a dummy dataset\n",
        "np.random.seed(0)\n",
        "dummy_data = {\n",
        "    'Feature1': np.random.normal(100, 10, 100).tolist() + [np.nan, 200],  # Normally distributed with an outlier\n",
        "    'Feature2': np.random.randint(0, 100, 102).tolist(),  # Random integers\n",
        "    'Category': ['A', 'B', 'C', 'D'] * 25 + [np.nan, 'A'],  # Categorical with some missing values\n",
        "    'Target': np.random.choice([0, 1], 102).tolist()  # Binary target variable\n",
        "}\n",
        "\n",
        "# Convert the dictionary to a pandas DataFrame\n",
        "df_dummy = pd.DataFrame(dummy_data)\n",
        "\n",
        "# Display the first few rows of the dummy dataset\n",
        "print(df_dummy.head())"
      ],
      "metadata": {
        "colab": {
          "base_uri": "https://localhost:8080/"
        },
        "id": "LtFfaxWoLPOz",
        "outputId": "71db780a-1615-42b1-80c3-58bbab767e75"
      },
      "execution_count": null,
      "outputs": [
        {
          "output_type": "stream",
          "name": "stdout",
          "text": [
            "     Feature1  Feature2 Category  Target\n",
            "0  117.640523        32        A       1\n",
            "1  104.001572        70        B       1\n",
            "2  109.787380        85        C       0\n",
            "3  122.408932        31        D       1\n",
            "4  118.675580        13        A       0\n"
          ]
        }
      ]
    },
    {
      "cell_type": "markdown",
      "source": [
        "<h2>2. Applying the preprocessing tool</h2>"
      ],
      "metadata": {
        "id": "xrNifso6LXhM"
      }
    },
    {
      "cell_type": "code",
      "source": [
        "import pandas as pd\n",
        "import numpy as np\n",
        "from scipy import stats\n",
        "from sklearn.preprocessing import StandardScaler\n",
        "\n",
        "def load_data(df):\n",
        "    return df\n",
        "\n",
        "def handle_missing_values(df):\n",
        "    # Fill missing values in numeric columns with the mean\n",
        "    df[df.select_dtypes(include=[np.number]).columns] = df.select_dtypes(include=[np.number]).fillna(df.select_dtypes(include=[np.number]).mean())\n",
        "    # Fill missing values in categorical columns with the mode\n",
        "    for col in df.select_dtypes(include=['object', 'category']).columns:\n",
        "        df[col] = df[col].fillna(df[col].mode()[0] if not df[col].mode().empty else 'Unknown')\n",
        "    return df\n",
        "\n",
        "def remove_outliers(df):\n",
        "    z_scores = np.abs(stats.zscore(df.select_dtypes(include=[np.number])))\n",
        "    return df[(z_scores < 3).all(axis=1)]  # Remove rows with any outliers\n",
        "\n",
        "def scale_data(df):\n",
        "    scaler = StandardScaler()\n",
        "    df[df.select_dtypes(include=[np.number]).columns] = scaler.fit_transform(df.select_dtypes(include=[np.number]))\n",
        "    return df\n",
        "\n",
        "def encode_categorical(df, categorical_columns):\n",
        "    return pd.get_dummies(df, columns=categorical_columns)\n",
        "\n",
        "def save_data(df, output_filepath):\n",
        "    df.to_csv(output_filepath, index=False)"
      ],
      "metadata": {
        "id": "vNI97op9LTUE"
      },
      "execution_count": null,
      "outputs": []
    },
    {
      "cell_type": "markdown",
      "source": [
        "<h2>3.Preprocess the dummy data</h2>\n"
      ],
      "metadata": {
        "id": "GdbEAC4NLnET"
      }
    },
    {
      "cell_type": "code",
      "source": [
        "# Load the data\n",
        "df_preprocessed = load_data(df_dummy)\n",
        "\n",
        "# Handle missing values\n",
        "df_preprocessed = handle_missing_values(df_preprocessed)\n",
        "\n",
        "# Remove outliers\n",
        "df_preprocessed = remove_outliers(df_preprocessed)\n",
        "\n",
        "# Scale the data\n",
        "df_preprocessed = scale_data(df_preprocessed)\n",
        "\n",
        "# Encode categorical variables\n",
        "df_preprocessed = encode_categorical(df_preprocessed, ['Category'])\n",
        "\n",
        "# Display the preprocessed data\n",
        "print(df_preprocessed.head())"
      ],
      "metadata": {
        "colab": {
          "base_uri": "https://localhost:8080/"
        },
        "id": "VbMVzZ5YLhRK",
        "outputId": "d14c62e1-2e7a-4c41-c85a-5981eb97a0b1"
      },
      "execution_count": null,
      "outputs": [
        {
          "output_type": "stream",
          "name": "stdout",
          "text": [
            "   Feature1  Feature2    Target  Category_A  Category_B  Category_C  \\\n",
            "0  1.698298 -0.519379  0.932936        True       False       False   \n",
            "1  0.338384  0.887380  0.932936       False        True       False   \n",
            "2  0.915276  1.442679 -1.071884       False       False        True   \n",
            "3  2.173747 -0.556399  0.932936       False       False       False   \n",
            "4  1.801501 -1.222759 -1.071884        True       False       False   \n",
            "\n",
            "   Category_D  \n",
            "0       False  \n",
            "1       False  \n",
            "2       False  \n",
            "3        True  \n",
            "4       False  \n"
          ]
        },
        {
          "output_type": "stream",
          "name": "stderr",
          "text": [
            "/tmp/ipython-input-3319153124.py:23: SettingWithCopyWarning: \n",
            "A value is trying to be set on a copy of a slice from a DataFrame.\n",
            "Try using .loc[row_indexer,col_indexer] = value instead\n",
            "\n",
            "See the caveats in the documentation: https://pandas.pydata.org/pandas-docs/stable/user_guide/indexing.html#returning-a-view-versus-a-copy\n",
            "  df[df.select_dtypes(include=[np.number]).columns] = scaler.fit_transform(df.select_dtypes(include=[np.number]))\n"
          ]
        }
      ]
    },
    {
      "cell_type": "markdown",
      "source": [
        "<h2>4.Saving the preprocessed data</h2>"
      ],
      "metadata": {
        "id": "6ppnrrZiL-ob"
      }
    },
    {
      "cell_type": "code",
      "source": [
        "# Save the cleaned and preprocessed DataFrame to a CSV file\n",
        "save_data(df_preprocessed, 'preprocessed_dummy_data.csv')\n",
        "\n",
        "print('Preprocessing complete. Preprocessed data saved as preprocessed_dummy_data.csv')"
      ],
      "metadata": {
        "colab": {
          "base_uri": "https://localhost:8080/"
        },
        "id": "yysxQkj_Lwy1",
        "outputId": "ab33060c-288c-40db-e611-81fc7875ad58"
      },
      "execution_count": null,
      "outputs": [
        {
          "output_type": "stream",
          "name": "stdout",
          "text": [
            "Preprocessing complete. Preprocessed data saved as preprocessed_dummy_data.csv\n"
          ]
        }
      ]
    },
    {
      "cell_type": "markdown",
      "source": [
        "<h2>5.Verifying the preprocessing steps</h2>"
      ],
      "metadata": {
        "id": "qCldaHUFMTKV"
      }
    },
    {
      "cell_type": "code",
      "source": [
        "#Check for missing values\n",
        "print(df_preprocessed.isnull().sum())"
      ],
      "metadata": {
        "colab": {
          "base_uri": "https://localhost:8080/"
        },
        "id": "lP6mb1ZcMLQC",
        "outputId": "d6ca1fe0-6807-47c8-df7c-c16e9b0f6846"
      },
      "execution_count": null,
      "outputs": [
        {
          "output_type": "stream",
          "name": "stdout",
          "text": [
            "Feature1      0\n",
            "Feature2      0\n",
            "Target        0\n",
            "Category_A    0\n",
            "Category_B    0\n",
            "Category_C    0\n",
            "Category_D    0\n",
            "dtype: int64\n"
          ]
        }
      ]
    },
    {
      "cell_type": "code",
      "source": [
        "#varify outlier removal\n",
        "\n",
        "print(df_preprocessed.describe())"
      ],
      "metadata": {
        "colab": {
          "base_uri": "https://localhost:8080/"
        },
        "id": "zw6_EYfYMhs8",
        "outputId": "06e09218-d11b-4339-9aac-c1c68043b90f"
      },
      "execution_count": null,
      "outputs": [
        {
          "output_type": "stream",
          "name": "stdout",
          "text": [
            "           Feature1      Feature2        Target\n",
            "count  1.010000e+02  1.010000e+02  1.010000e+02\n",
            "mean  -2.526444e-15 -3.407615e-17 -2.418308e-17\n",
            "std    1.004988e+00  1.004988e+00  1.004988e+00\n",
            "min   -2.606142e+00 -1.704018e+00 -1.071884e+00\n",
            "25%   -6.930755e-01 -6.674590e-01 -1.071884e+00\n",
            "50%    6.071482e-02 -1.861994e-01  9.329364e-01\n",
            "75%    6.663572e-01  8.503597e-01  9.329364e-01\n",
            "max    2.202524e+00  1.886919e+00  9.329364e-01\n"
          ]
        }
      ]
    },
    {
      "cell_type": "code",
      "source": [
        "#inspect scaled data\n",
        "\n",
        "print(df_preprocessed.head())"
      ],
      "metadata": {
        "colab": {
          "base_uri": "https://localhost:8080/"
        },
        "id": "f-kkjr1mM0Li",
        "outputId": "721e90c6-567d-4da2-91de-6c2db4c3694f"
      },
      "execution_count": null,
      "outputs": [
        {
          "output_type": "stream",
          "name": "stdout",
          "text": [
            "   Feature1  Feature2    Target  Category_A  Category_B  Category_C  \\\n",
            "0  1.698298 -0.519379  0.932936        True       False       False   \n",
            "1  0.338384  0.887380  0.932936       False        True       False   \n",
            "2  0.915276  1.442679 -1.071884       False       False        True   \n",
            "3  2.173747 -0.556399  0.932936       False       False       False   \n",
            "4  1.801501 -1.222759 -1.071884        True       False       False   \n",
            "\n",
            "   Category_D  \n",
            "0       False  \n",
            "1       False  \n",
            "2       False  \n",
            "3        True  \n",
            "4       False  \n"
          ]
        }
      ]
    },
    {
      "cell_type": "code",
      "source": [
        "#check categorical encoding\n",
        "\n",
        "print(df_preprocessed.columns)"
      ],
      "metadata": {
        "colab": {
          "base_uri": "https://localhost:8080/"
        },
        "id": "FQC0XD-xM9nI",
        "outputId": "082467e2-1f86-4d03-a9d2-07ecf5f00578"
      },
      "execution_count": null,
      "outputs": [
        {
          "output_type": "stream",
          "name": "stdout",
          "text": [
            "Index(['Feature1', 'Feature2', 'Target', 'Category_A', 'Category_B',\n",
            "       'Category_C', 'Category_D'],\n",
            "      dtype='object')\n"
          ]
        }
      ]
    },
    {
      "cell_type": "code",
      "source": [],
      "metadata": {
        "id": "OPjGXFe0NGGN"
      },
      "execution_count": null,
      "outputs": []
    }
  ]
}