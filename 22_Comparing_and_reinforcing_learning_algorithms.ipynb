{
  "nbformat": 4,
  "nbformat_minor": 0,
  "metadata": {
    "colab": {
      "provenance": [],
      "authorship_tag": "ABX9TyOzBuoSUBeIUVC802kPo8PX",
      "include_colab_link": true
    },
    "kernelspec": {
      "name": "python3",
      "display_name": "Python 3"
    },
    "language_info": {
      "name": "python"
    }
  },
  "cells": [
    {
      "cell_type": "markdown",
      "metadata": {
        "id": "view-in-github",
        "colab_type": "text"
      },
      "source": [
        "<a href=\"https://colab.research.google.com/github/amzad-786githumb/AI_and_ML_by-Microsoft/blob/main/22_Comparing_and_reinforcing_learning_algorithms.ipynb\" target=\"_parent\"><img src=\"https://colab.research.google.com/assets/colab-badge.svg\" alt=\"Open In Colab\"/></a>"
      ]
    },
    {
      "cell_type": "markdown",
      "source": [
        "In this assignment, you will use a simple grid environment (5 × 5) in which the agent starts at a random position and must navigate to a goal state while avoiding pitfalls. The environment includes:\n",
        "\n",
        "**States:** each cell on the grid is a unique state.\n",
        "\n",
        "**Actions:** the agent can move up, down, left, or right.\n",
        "\n",
        "**Rewards:**\n",
        "\n",
        "*  +10 for reaching the goal state (position 24).\n",
        "\n",
        "*  –10 for falling into a pit (position 12).\n",
        "\n",
        "*  –1 for all other movements (to encourage faster goal-reaching).\n",
        "\n",
        "The objective is to compare how each algorithm—Q-learning and policy gradients—handles this environment and analyze their behavior."
      ],
      "metadata": {
        "id": "zxqrbDUpg8L2"
      }
    },
    {
      "cell_type": "markdown",
      "source": [
        "<h3>Set up your environment</h3>"
      ],
      "metadata": {
        "id": "KidAlFWhgc72"
      }
    },
    {
      "cell_type": "code",
      "execution_count": null,
      "metadata": {
        "colab": {
          "base_uri": "https://localhost:8080/"
        },
        "id": "q6mNnZ4rgCgL",
        "outputId": "3d0f7689-9d42-4cc0-c66a-43e50a3ab50f"
      },
      "outputs": [
        {
          "output_type": "stream",
          "name": "stdout",
          "text": [
            "Requirement already satisfied: numpy in /usr/local/lib/python3.12/dist-packages (2.0.2)\n",
            "Requirement already satisfied: tensorflow in /usr/local/lib/python3.12/dist-packages (2.19.0)\n",
            "Requirement already satisfied: matplotlib in /usr/local/lib/python3.12/dist-packages (3.10.0)\n",
            "Requirement already satisfied: absl-py>=1.0.0 in /usr/local/lib/python3.12/dist-packages (from tensorflow) (1.4.0)\n",
            "Requirement already satisfied: astunparse>=1.6.0 in /usr/local/lib/python3.12/dist-packages (from tensorflow) (1.6.3)\n",
            "Requirement already satisfied: flatbuffers>=24.3.25 in /usr/local/lib/python3.12/dist-packages (from tensorflow) (25.9.23)\n",
            "Requirement already satisfied: gast!=0.5.0,!=0.5.1,!=0.5.2,>=0.2.1 in /usr/local/lib/python3.12/dist-packages (from tensorflow) (0.6.0)\n",
            "Requirement already satisfied: google-pasta>=0.1.1 in /usr/local/lib/python3.12/dist-packages (from tensorflow) (0.2.0)\n",
            "Requirement already satisfied: libclang>=13.0.0 in /usr/local/lib/python3.12/dist-packages (from tensorflow) (18.1.1)\n",
            "Requirement already satisfied: opt-einsum>=2.3.2 in /usr/local/lib/python3.12/dist-packages (from tensorflow) (3.4.0)\n",
            "Requirement already satisfied: packaging in /usr/local/lib/python3.12/dist-packages (from tensorflow) (25.0)\n",
            "Requirement already satisfied: protobuf!=4.21.0,!=4.21.1,!=4.21.2,!=4.21.3,!=4.21.4,!=4.21.5,<6.0.0dev,>=3.20.3 in /usr/local/lib/python3.12/dist-packages (from tensorflow) (5.29.5)\n",
            "Requirement already satisfied: requests<3,>=2.21.0 in /usr/local/lib/python3.12/dist-packages (from tensorflow) (2.32.4)\n",
            "Requirement already satisfied: setuptools in /usr/local/lib/python3.12/dist-packages (from tensorflow) (75.2.0)\n",
            "Requirement already satisfied: six>=1.12.0 in /usr/local/lib/python3.12/dist-packages (from tensorflow) (1.17.0)\n",
            "Requirement already satisfied: termcolor>=1.1.0 in /usr/local/lib/python3.12/dist-packages (from tensorflow) (3.1.0)\n",
            "Requirement already satisfied: typing-extensions>=3.6.6 in /usr/local/lib/python3.12/dist-packages (from tensorflow) (4.15.0)\n",
            "Requirement already satisfied: wrapt>=1.11.0 in /usr/local/lib/python3.12/dist-packages (from tensorflow) (1.17.3)\n",
            "Requirement already satisfied: grpcio<2.0,>=1.24.3 in /usr/local/lib/python3.12/dist-packages (from tensorflow) (1.75.1)\n",
            "Requirement already satisfied: tensorboard~=2.19.0 in /usr/local/lib/python3.12/dist-packages (from tensorflow) (2.19.0)\n",
            "Requirement already satisfied: keras>=3.5.0 in /usr/local/lib/python3.12/dist-packages (from tensorflow) (3.10.0)\n",
            "Requirement already satisfied: h5py>=3.11.0 in /usr/local/lib/python3.12/dist-packages (from tensorflow) (3.14.0)\n",
            "Requirement already satisfied: ml-dtypes<1.0.0,>=0.5.1 in /usr/local/lib/python3.12/dist-packages (from tensorflow) (0.5.3)\n",
            "Requirement already satisfied: contourpy>=1.0.1 in /usr/local/lib/python3.12/dist-packages (from matplotlib) (1.3.3)\n",
            "Requirement already satisfied: cycler>=0.10 in /usr/local/lib/python3.12/dist-packages (from matplotlib) (0.12.1)\n",
            "Requirement already satisfied: fonttools>=4.22.0 in /usr/local/lib/python3.12/dist-packages (from matplotlib) (4.60.1)\n",
            "Requirement already satisfied: kiwisolver>=1.3.1 in /usr/local/lib/python3.12/dist-packages (from matplotlib) (1.4.9)\n",
            "Requirement already satisfied: pillow>=8 in /usr/local/lib/python3.12/dist-packages (from matplotlib) (11.3.0)\n",
            "Requirement already satisfied: pyparsing>=2.3.1 in /usr/local/lib/python3.12/dist-packages (from matplotlib) (3.2.5)\n",
            "Requirement already satisfied: python-dateutil>=2.7 in /usr/local/lib/python3.12/dist-packages (from matplotlib) (2.9.0.post0)\n",
            "Requirement already satisfied: wheel<1.0,>=0.23.0 in /usr/local/lib/python3.12/dist-packages (from astunparse>=1.6.0->tensorflow) (0.45.1)\n",
            "Requirement already satisfied: rich in /usr/local/lib/python3.12/dist-packages (from keras>=3.5.0->tensorflow) (13.9.4)\n",
            "Requirement already satisfied: namex in /usr/local/lib/python3.12/dist-packages (from keras>=3.5.0->tensorflow) (0.1.0)\n",
            "Requirement already satisfied: optree in /usr/local/lib/python3.12/dist-packages (from keras>=3.5.0->tensorflow) (0.17.0)\n",
            "Requirement already satisfied: charset_normalizer<4,>=2 in /usr/local/lib/python3.12/dist-packages (from requests<3,>=2.21.0->tensorflow) (3.4.3)\n",
            "Requirement already satisfied: idna<4,>=2.5 in /usr/local/lib/python3.12/dist-packages (from requests<3,>=2.21.0->tensorflow) (3.10)\n",
            "Requirement already satisfied: urllib3<3,>=1.21.1 in /usr/local/lib/python3.12/dist-packages (from requests<3,>=2.21.0->tensorflow) (2.5.0)\n",
            "Requirement already satisfied: certifi>=2017.4.17 in /usr/local/lib/python3.12/dist-packages (from requests<3,>=2.21.0->tensorflow) (2025.10.5)\n",
            "Requirement already satisfied: markdown>=2.6.8 in /usr/local/lib/python3.12/dist-packages (from tensorboard~=2.19.0->tensorflow) (3.9)\n",
            "Requirement already satisfied: tensorboard-data-server<0.8.0,>=0.7.0 in /usr/local/lib/python3.12/dist-packages (from tensorboard~=2.19.0->tensorflow) (0.7.2)\n",
            "Requirement already satisfied: werkzeug>=1.0.1 in /usr/local/lib/python3.12/dist-packages (from tensorboard~=2.19.0->tensorflow) (3.1.3)\n",
            "Requirement already satisfied: MarkupSafe>=2.1.1 in /usr/local/lib/python3.12/dist-packages (from werkzeug>=1.0.1->tensorboard~=2.19.0->tensorflow) (3.0.3)\n",
            "Requirement already satisfied: markdown-it-py>=2.2.0 in /usr/local/lib/python3.12/dist-packages (from rich->keras>=3.5.0->tensorflow) (4.0.0)\n",
            "Requirement already satisfied: pygments<3.0.0,>=2.13.0 in /usr/local/lib/python3.12/dist-packages (from rich->keras>=3.5.0->tensorflow) (2.19.2)\n",
            "Requirement already satisfied: mdurl~=0.1 in /usr/local/lib/python3.12/dist-packages (from markdown-it-py>=2.2.0->rich->keras>=3.5.0->tensorflow) (0.1.2)\n"
          ]
        }
      ],
      "source": [
        "pip install numpy tensorflow matplotlib"
      ]
    },
    {
      "cell_type": "markdown",
      "source": [
        "<h2><b>Implement Q-learning</b></h2>"
      ],
      "metadata": {
        "id": "TN7A5P3rhM90"
      }
    },
    {
      "cell_type": "markdown",
      "source": [
        "<h3>Step 1: Initialize the Q-table</h3>"
      ],
      "metadata": {
        "id": "MmSdVGW0hYHz"
      }
    },
    {
      "cell_type": "code",
      "source": [
        "import numpy as np\n",
        "\n",
        "#Define the grid size and actions\n",
        "grid_size = 5\n",
        "n_actions = 4\n",
        "\n",
        "#Initialize the Q table with zeros\n",
        "Q_table = np.zeros((grid_size*grid_size, n_actions))"
      ],
      "metadata": {
        "id": "yD01WYhEgp_t"
      },
      "execution_count": null,
      "outputs": []
    },
    {
      "cell_type": "markdown",
      "source": [
        "<h3>Step 2: Define the hyperparameters</h3>"
      ],
      "metadata": {
        "id": "WTLah2ibiH91"
      }
    },
    {
      "cell_type": "code",
      "source": [
        "alpha = 0.1 #Learning rate\n",
        "gamma = 0.9 #Discount factor for future rewards\n",
        "epsilon = 0.1 #Exploration rate for epsilon-greedy policy"
      ],
      "metadata": {
        "id": "QhmZlFVkiEap"
      },
      "execution_count": null,
      "outputs": []
    },
    {
      "cell_type": "markdown",
      "source": [
        "<h3>Step 3: Define the reward structure</h3>"
      ],
      "metadata": {
        "id": "YXxdmKhCioaD"
      }
    },
    {
      "cell_type": "code",
      "source": [
        "#reward matrix for grid environment\n",
        "rewards = np.full((grid_size * grid_size, ), -1)\n",
        "rewards[24] = 10 #goal state\n",
        "rewards[12] =-10 #pitfall state"
      ],
      "metadata": {
        "id": "GCPEr90Qigyv"
      },
      "execution_count": null,
      "outputs": []
    },
    {
      "cell_type": "markdown",
      "source": [
        "<h3>Step 4: Implement the epsilon-greedy action selection</h3>"
      ],
      "metadata": {
        "id": "kSaj7NpAj2LK"
      }
    },
    {
      "cell_type": "code",
      "source": [
        "def epsilon_greedy_action(Q_table, state, epsilon):\n",
        "  if np.random.uniform(0,1) < epsilon:\n",
        "    return np.random.randint(0, n_actions)  #Explore random axtion\n",
        "  else:\n",
        "    return np.argmax(Q_table[state]) #Exploit: action with highest Q-value"
      ],
      "metadata": {
        "id": "mDEllrUzjyc5"
      },
      "execution_count": null,
      "outputs": []
    },
    {
      "cell_type": "markdown",
      "source": [
        "<h3>Step 5: Update the Q-values</h3>"
      ],
      "metadata": {
        "id": "6ZnMtKSZkxch"
      }
    },
    {
      "cell_type": "code",
      "source": [
        "# List to store cumulative rewards per episode for Q-learning\n",
        "rewards_q_learning = []\n",
        "\n",
        "for episode in range(1000):\n",
        "    state = np.random.randint(0, grid_size * grid_size)  # Start in a random state\n",
        "    done = False\n",
        "    episode_cumulative_reward = 0  # Initialize cumulative reward for the episode\n",
        "    while not done:\n",
        "        action = epsilon_greedy_action(Q_table, state, epsilon)\n",
        "        next_state = np.random.randint(0, grid_size * grid_size)  # Simulated next state\n",
        "        reward = rewards[next_state]\n",
        "\n",
        "        # Update Q-value using Bellman equation\n",
        "        Q_table[state, action] = Q_table[state, action] + alpha * (reward + gamma * np.max(Q_table[next_state]) - Q_table[state, action])\n",
        "\n",
        "        state = next_state\n",
        "        episode_cumulative_reward += reward  # Add reward to episode cumulative reward\n",
        "        if next_state == 24 or next_state == 12:\n",
        "            done = True\n",
        "    rewards_q_learning.append(episode_cumulative_reward)  # Store cumulative reward for the episode"
      ],
      "metadata": {
        "id": "AwObsqd7ktQI"
      },
      "execution_count": null,
      "outputs": []
    },
    {
      "cell_type": "markdown",
      "source": [
        "<h2><b>Implement policy gradients</h2></b>"
      ],
      "metadata": {
        "id": "XAf3rky6lG5I"
      }
    },
    {
      "cell_type": "markdown",
      "source": [
        "<h3>Step 1: Build the policy network</h3>"
      ],
      "metadata": {
        "id": "sdK9C8edlPDS"
      }
    },
    {
      "cell_type": "code",
      "source": [
        "import tensorflow as tf\n",
        "\n",
        "# Define the policy network\n",
        "n_states = grid_size * grid_size  # Number of states in the grid\n",
        "n_actions = 4  # Up, down, left, right\n",
        "\n",
        "model = tf.keras.Sequential([\n",
        "    tf.keras.layers.Dense(24, activation='relu', input_shape=(n_states,)),\n",
        "    tf.keras.layers.Dense(n_actions, activation='softmax')  # Output action probabilities\n",
        "])\n",
        "\n",
        "# Optimizer for policy network updates\n",
        "optimizer = tf.keras.optimizers.Adam(learning_rate=0.01)"
      ],
      "metadata": {
        "colab": {
          "base_uri": "https://localhost:8080/"
        },
        "id": "NbWmc-jwlJiX",
        "outputId": "3dade5e1-8e08-4624-8b48-a3a8bde30899"
      },
      "execution_count": null,
      "outputs": [
        {
          "output_type": "stream",
          "name": "stderr",
          "text": [
            "/usr/local/lib/python3.12/dist-packages/keras/src/layers/core/dense.py:93: UserWarning: Do not pass an `input_shape`/`input_dim` argument to a layer. When using Sequential models, prefer using an `Input(shape)` object as the first layer in the model instead.\n",
            "  super().__init__(activity_regularizer=activity_regularizer, **kwargs)\n"
          ]
        }
      ]
    },
    {
      "cell_type": "markdown",
      "source": [
        "<h3>Step 2: Select an action</h3>"
      ],
      "metadata": {
        "id": "QAd-vnyjlh38"
      }
    },
    {
      "cell_type": "code",
      "source": [
        "def get_action(state):\n",
        "    state_input = tf.one_hot(state, n_states)  # One-hot encoding for state\n",
        "    action_probs = model(state_input[np.newaxis, :])\n",
        "    return np.random.choice(n_actions, p=action_probs.numpy()[0])"
      ],
      "metadata": {
        "id": "5haEvu0oljPW"
      },
      "execution_count": null,
      "outputs": []
    },
    {
      "cell_type": "markdown",
      "source": [
        "<h3>Step 3: Simulate the environment</h3>"
      ],
      "metadata": {
        "id": "DhCffFMIlvpP"
      }
    },
    {
      "cell_type": "code",
      "source": [
        "# Simulation loop\n",
        "states = []\n",
        "actions = []\n",
        "episode_rewards = []\n",
        "rewards_policy_gradients = [] # List to store cumulative rewards per episode for Policy Gradients\n",
        "\n",
        "\n",
        "for episode in range(1000):\n",
        "    state = np.random.randint(0, n_states)  # Start in a random state\n",
        "    done = False\n",
        "    episode_cumulative_reward = 0 # Initialize cumulative reward for the episode\n",
        "    while not done:\n",
        "        action = get_action(state)  # Use the provided function\n",
        "        next_state = np.random.randint(0, n_states)  # Simulated next state\n",
        "        reward = rewards[next_state]\n",
        "\n",
        "        # Store the state-action-reward trajectory\n",
        "        states.append(state)\n",
        "        actions.append(action)\n",
        "        episode_rewards.append(reward)\n",
        "\n",
        "        state = next_state\n",
        "        episode_cumulative_reward += reward # Add reward to episode cumulative reward\n",
        "        if next_state in {24, 12}:\n",
        "            done = True\n",
        "    rewards_policy_gradients.append(episode_cumulative_reward) # Store cumulative reward for the episode"
      ],
      "metadata": {
        "id": "yoN0XULZlxVL"
      },
      "execution_count": null,
      "outputs": []
    },
    {
      "cell_type": "markdown",
      "source": [
        "<h3>Step 4: Compute cumulative rewards</h3>"
      ],
      "metadata": {
        "id": "uWhHlXtUmDKW"
      }
    },
    {
      "cell_type": "code",
      "source": [
        "def compute_cumulative_rewards(rewards, gamma=0.99):\n",
        "    cumulative_rewards = np.zeros_like(rewards)\n",
        "    running_add = 0\n",
        "    for t in reversed(range(len(rewards))):\n",
        "        running_add = running_add * gamma + rewards[t]\n",
        "        cumulative_rewards[t] = running_add\n",
        "    return cumulative_rewards"
      ],
      "metadata": {
        "id": "aLUYxoYGmEpX"
      },
      "execution_count": null,
      "outputs": []
    },
    {
      "cell_type": "markdown",
      "source": [
        "<h3>Step 5: Update the policy</h3>"
      ],
      "metadata": {
        "id": "7sl5AuOdmRVW"
      }
    },
    {
      "cell_type": "code",
      "source": [
        "def update_policy(states, actions, rewards):\n",
        "    cumulative_rewards = compute_cumulative_rewards(rewards)\n",
        "\n",
        "    with tf.GradientTape() as tape:\n",
        "        state_inputs = tf.one_hot(states, n_states)  # Convert states to one-hot encoding\n",
        "        action_probs = model(state_inputs)\n",
        "        action_masks = tf.one_hot(actions, n_actions)  # Mask for selected actions\n",
        "        log_probs = tf.reduce_sum(action_masks * tf.math.log(action_probs), axis=1)\n",
        "\n",
        "        # Policy loss is the negative log-probability of the action times the cumulative reward\n",
        "        loss = -tf.reduce_mean(log_probs * cumulative_rewards)\n",
        "\n",
        "    # Apply gradients to update the policy network\n",
        "    grads = tape.gradient(loss, model.trainable_variables)\n",
        "    optimizer.apply_gradients(zip(grads, model.trainable_variables))"
      ],
      "metadata": {
        "id": "SnV6GifdmTE2"
      },
      "execution_count": null,
      "outputs": []
    },
    {
      "cell_type": "markdown",
      "source": [
        "<h2>Comparison and analysis</h2>"
      ],
      "metadata": {
        "id": "RYFRO7FJmoyP"
      }
    },
    {
      "cell_type": "code",
      "source": [
        "import matplotlib.pyplot as plt\n",
        "\n",
        "# Example code to visualize rewards over episodes\n",
        "plt.plot(rewards_q_learning, label='Q-Learning')\n",
        "plt.plot(rewards_policy_gradients, label='Policy Gradients')\n",
        "plt.xlabel('Episodes')\n",
        "plt.ylabel('Cumulative Rewards')\n",
        "plt.legend()\n",
        "plt.show()"
      ],
      "metadata": {
        "colab": {
          "base_uri": "https://localhost:8080/",
          "height": 449
        },
        "id": "Vi8fgmkRmqeH",
        "outputId": "65e7990a-5d15-4d28-b51a-b7629b8afd75"
      },
      "execution_count": null,
      "outputs": [
        {
          "output_type": "display_data",
          "data": {
            "text/plain": [
              "<Figure size 640x480 with 1 Axes>"
            ],
            "image/png": "[encoded data removed]"
          },
          "metadata": {}
        }
      ]
    },
    {
      "cell_type": "markdown",
      "source": [
        "<h2>Comparing Q-learning and policy gradients</h2>"
      ],
      "metadata": {
        "id": "vUFWxPY4n5IO"
      }
    },
    {
      "cell_type": "markdown",
      "source": [
        "**Speed of convergence**\n",
        "\n",
        "*  Q-learning tended to converge faster in this small grid environment. This is because Q-learning works well in environments with a discrete action space and fewer states, allowing the agent to build a reliable Q-table quickly.\n",
        "\n",
        "*  Policy gradients required more episodes to stabilize because the agent learned the policy directly through gradient updates. However, policy gradients are more flexible in environments with continuous action spaces."
      ],
      "metadata": {
        "id": "eJF5tspwoAOG"
      }
    },
    {
      "cell_type": "markdown",
      "source": [
        "**Reward maximization**\n",
        "\n",
        "*  Both algorithms eventually reached the goal consistently after enough episodes. However, Q-learning was more consistent in terms of reward maximization early on due to its more structured exploration.\n",
        "\n",
        "*  Policy gradients started slowly but eventually caught up and produced comparable results."
      ],
      "metadata": {
        "id": "opBG3gBboOfV"
      }
    },
    {
      "cell_type": "markdown",
      "source": [
        "**Exploration vs. exploitation**\n",
        "\n",
        "*  Q-learning relies heavily on exploration through the epsilon-greedy policy. The agent systematically explored different paths, but it risked getting stuck in suboptimal actions when epsilon was too high.\n",
        "\n",
        "*  Policy gradients did not explicitly balance exploration and exploitation; instead, they optimized the policy based on cumulative rewards, which naturally led to better action selection as the policy improved."
      ],
      "metadata": {
        "id": "W4-Je5ESodU9"
      }
    },
    {
      "cell_type": "markdown",
      "source": [
        "**Suitability for different problems**\n",
        "\n",
        "*  Q-learning is more suited to environments with a small number of discrete actions and states, such as grid-based games or simple navigation tasks.\n",
        "\n",
        "* Policy gradients are better suited for environments with a continuous action space or more complex scenarios where approximating a value function (such as Q-values) becomes difficult."
      ],
      "metadata": {
        "id": "r3URyazForWe"
      }
    }
  ]
}