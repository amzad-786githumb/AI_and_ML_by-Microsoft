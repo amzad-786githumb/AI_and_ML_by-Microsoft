{
  "cells": [
    {
      "cell_type": "markdown",
      "metadata": {
        "id": "view-in-github",
        "colab_type": "text"
      },
      "source": [
        "<a href=\"https://colab.research.google.com/github/amzad-786githumb/AI_and_ML_by-Microsoft/blob/main/29_Applying_evaluation_metrics_in_fine_tuning_models.ipynb\" target=\"_parent\"><img src=\"https://colab.research.google.com/assets/colab-badge.svg\" alt=\"Open In Colab\"/></a>"
      ]
    },
    {
      "cell_type": "markdown",
      "source": [
        "<h2> Tasks:</h2>\n",
        "\n",
        "*  Describe when and why to use different evaluation metrics, such as accuracy, precision, recall, and F1 score.\n",
        "\n",
        "*  Calculate and interpret key evaluation metrics for fine-tuned models using practical Python code.\n",
        "\n",
        "*  Apply ROC-AUC, loss functions, and confusion matrices to analyze model performance.\n",
        "\n",
        "*  Choose the most appropriate evaluation metrics based on your specific task and the costs of false positives and false negatives.\n",
        "\n",
        "*  Use evaluation metrics to guide model improvements and ensure better generalization to unseen data."
      ],
      "metadata": {
        "id": "svQneDrzshXF"
      }
    },
    {
      "cell_type": "markdown",
      "source": [
        "<h3><b>Example 1: Accuracy</b></h3>"
      ],
      "metadata": {
        "id": "vxJOPPIds7ZF"
      }
    },
    {
      "cell_type": "code",
      "source": [
        "from sklearn.metrics import accuracy_score\n",
        "\n",
        "# Actual labels and predicted labels from your model\n",
        "y_true = [1, 0, 1, 1, 0, 1]\n",
        "y_pred = [1, 0, 1, 0, 0, 1]\n",
        "\n",
        "#calculate accuracy\n",
        "accuracy = accuracy_score(y_true, y_pred)\n",
        "print(f\"Accuracy: {accuracy}\")\n",
        "print(f\"Accuracy %: {accuracy*100}\")"
      ],
      "metadata": {
        "colab": {
          "base_uri": "https://localhost:8080/"
        },
        "id": "pho9SUn0srjx",
        "outputId": "4c2fcf23-3f1a-432c-d258-248b08eda3f0"
      },
      "execution_count": 2,
      "outputs": [
        {
          "output_type": "stream",
          "name": "stdout",
          "text": [
            "Accuracy: 0.8333333333333334\n",
            "Accuracy %: 83.33333333333334\n"
          ]
        }
      ]
    },
    {
      "cell_type": "markdown",
      "source": [
        "<h3><b>Example 2: Precision</b></h3>"
      ],
      "metadata": {
        "id": "P_v_JTXxtxuT"
      }
    },
    {
      "cell_type": "code",
      "source": [
        "from sklearn.metrics import precision_score\n",
        "\n",
        "#calculate precision\n",
        "precision = precision_score(y_true, y_pred)\n",
        "print(f\"Precision: {precision}\")"
      ],
      "metadata": {
        "colab": {
          "base_uri": "https://localhost:8080/"
        },
        "id": "yUFy9ugYtezv",
        "outputId": "180806f8-45a7-4f30-c73f-0645346d5029"
      },
      "execution_count": 4,
      "outputs": [
        {
          "output_type": "stream",
          "name": "stdout",
          "text": [
            "Precision: 1.0\n"
          ]
        }
      ]
    },
    {
      "cell_type": "markdown",
      "source": [
        "<h3><b>Example 3: Recall (Sensitivity)</b></h3>"
      ],
      "metadata": {
        "id": "D7Vxbp3duQ5I"
      }
    },
    {
      "cell_type": "code",
      "source": [
        "from sklearn.metrics import recall_score\n",
        "\n",
        "#calculate recall\n",
        "recall = recall_score(y_true, y_pred)\n",
        "print(f\"Recall: {recall}\")"
      ],
      "metadata": {
        "colab": {
          "base_uri": "https://localhost:8080/"
        },
        "id": "KR_Gss6juH6s",
        "outputId": "2cfcd271-ec6e-4e1e-c5c1-eb246ed0c106"
      },
      "execution_count": 5,
      "outputs": [
        {
          "output_type": "stream",
          "name": "stdout",
          "text": [
            "Recall: 0.75\n"
          ]
        }
      ]
    },
    {
      "cell_type": "markdown",
      "source": [
        "<h3><b>Example 4: F1 score</b><h3>"
      ],
      "metadata": {
        "id": "W8zSN47Ou1_D"
      }
    },
    {
      "cell_type": "code",
      "source": [
        "from sklearn.metrics import f1_score\n",
        "\n",
        "#calculate F1 score\n",
        "f1_score = f1_score(y_true, y_pred)\n",
        "print(f\"F1 Score: {f1_score}\")\n"
      ],
      "metadata": {
        "colab": {
          "base_uri": "https://localhost:8080/"
        },
        "id": "3z-t49B1ut_9",
        "outputId": "9128ec31-14b3-4930-dd5b-fe89ac23b6b8"
      },
      "execution_count": 6,
      "outputs": [
        {
          "output_type": "stream",
          "name": "stdout",
          "text": [
            "F1 Score: 0.8571428571428571\n"
          ]
        }
      ]
    },
    {
      "cell_type": "markdown",
      "source": [
        "<h3><b>Example 5: Confusion matrix</b></h3>"
      ],
      "metadata": {
        "id": "rrdwNsP-vUOi"
      }
    },
    {
      "cell_type": "code",
      "source": [
        "from sklearn.metrics import confusion_matrix\n",
        "\n",
        "#calculate confusion matrix\n",
        "cm = confusion_matrix(y_true, y_pred)\n",
        "print(f\"Confusion Matrix:\\n {cm}\")"
      ],
      "metadata": {
        "colab": {
          "base_uri": "https://localhost:8080/"
        },
        "id": "Dq_6QwevvCtc",
        "outputId": "ebeddd38-f6b0-40a7-89ed-2973d6ea2e1e"
      },
      "execution_count": 8,
      "outputs": [
        {
          "output_type": "stream",
          "name": "stdout",
          "text": [
            "Confusion Matrix:\n",
            " [[2 0]\n",
            " [1 3]]\n"
          ]
        }
      ]
    },
    {
      "cell_type": "markdown",
      "source": [
        "<h3><b>Example 6: ROC-AUC </b></h3>"
      ],
      "metadata": {
        "id": "0ig2X-4HwEui"
      }
    },
    {
      "cell_type": "code",
      "source": [
        "from sklearn.metrics import roc_auc_score\n",
        "\n",
        "#calculate AUC-ROC score\n",
        "auc_roc = roc_auc_score(y_true, y_pred)\n",
        "print(f\"AUC-ROC Score: {auc_roc}\")"
      ],
      "metadata": {
        "colab": {
          "base_uri": "https://localhost:8080/"
        },
        "id": "X9ErBMTMvs_4",
        "outputId": "31c90753-f5dc-4600-92bc-a61370d229f3"
      },
      "execution_count": 11,
      "outputs": [
        {
          "output_type": "stream",
          "name": "stdout",
          "text": [
            "AUC-ROC Score: 0.875\n"
          ]
        }
      ]
    },
    {
      "cell_type": "markdown",
      "source": [
        "<h3><b>Example 7: Loss function</b></h3>"
      ],
      "metadata": {
        "id": "Y1EVuyIBwvaJ"
      }
    },
    {
      "cell_type": "code",
      "source": [
        "import torch\n",
        "import torch.nn as nn\n",
        "\n",
        "# Define the cross-entropy loss function\n",
        "loss_fn = nn.CrossEntropyLoss()\n",
        "\n",
        "# Example prediction and actual class (as tensors)\n",
        "output = torch.tensor([[0.5, 1.5],[2.0,0.5]])\n",
        "\n",
        "# 'target' is a tensor representing the actual classes for the two data points.\n",
        "target = torch.tensor([1,0])\n",
        "\n",
        "# Calculate loss\n",
        "loss = loss_fn(output, target)\n",
        "\n",
        "# Print the computed loss value\n",
        "print(f\"Loss: {loss.item()}\")"
      ],
      "metadata": {
        "colab": {
          "base_uri": "https://localhost:8080/"
        },
        "id": "8vMp9YXbwdui",
        "outputId": "19ee13bf-2daa-4fc1-ad24-bdf75cde23ed"
      },
      "execution_count": 12,
      "outputs": [
        {
          "output_type": "stream",
          "name": "stdout",
          "text": [
            "Loss: 0.2573375105857849\n"
          ]
        }
      ]
    }
  ],
  "metadata": {
    "colab": {
      "provenance": [],
      "authorship_tag": "ABX9TyP+Vmtc7gCfC4B1AUL+pEYF",
      "include_colab_link": true
    },
    "kernelspec": {
      "display_name": "Python 3",
      "name": "python3"
    },
    "language_info": {
      "name": "python"
    }
  },
  "nbformat": 4,
  "nbformat_minor": 0
}