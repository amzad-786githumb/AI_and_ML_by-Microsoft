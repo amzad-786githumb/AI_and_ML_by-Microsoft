{
  "cells": [
    {
      "cell_type": "markdown",
      "metadata": {
        "id": "view-in-github",
        "colab_type": "text"
      },
      "source": [
        "<a href=\"https://colab.research.google.com/github/amzad-786githumb/AI_and_ML_by-Microsoft/blob/main/30_Key_requirements_for_AI_troubleshooting.ipynb\" target=\"_parent\"><img src=\"https://colab.research.google.com/assets/colab-badge.svg\" alt=\"Open In Colab\"/></a>"
      ]
    },
    {
      "cell_type": "markdown",
      "source": [
        "<h2> Tasks:</h2>\n",
        "\n",
        "*  List the key requirements for AI troubleshooting agents.\n",
        "\n",
        "*  Implement core functionalities such as user interaction, problem diagnosis, and automated fixes.\n",
        "\n",
        "*  Build a feedback mechanism that helps the agent learn and improve over time."
      ],
      "metadata": {
        "id": "svQneDrzshXF"
      }
    },
    {
      "cell_type": "markdown",
      "source": [
        "<h3>Step 1: Set up the environment</h3>"
      ],
      "metadata": {
        "id": "vxJOPPIds7ZF"
      }
    },
    {
      "cell_type": "code",
      "source": [
        "# Install necessary libraries\n",
        "!pip install spacy transformers"
      ],
      "metadata": {
        "colab": {
          "base_uri": "https://localhost:8080/"
        },
        "id": "pho9SUn0srjx",
        "outputId": "995781c3-f886-4f50-fdd7-17f651d18356"
      },
      "execution_count": 1,
      "outputs": [
        {
          "output_type": "stream",
          "name": "stdout",
          "text": [
            "Requirement already satisfied: spacy in /usr/local/lib/python3.12/dist-packages (3.8.7)\n",
            "Requirement already satisfied: transformers in /usr/local/lib/python3.12/dist-packages (4.57.1)\n",
            "Requirement already satisfied: spacy-legacy<3.1.0,>=3.0.11 in /usr/local/lib/python3.12/dist-packages (from spacy) (3.0.12)\n",
            "Requirement already satisfied: spacy-loggers<2.0.0,>=1.0.0 in /usr/local/lib/python3.12/dist-packages (from spacy) (1.0.5)\n",
            "Requirement already satisfied: murmurhash<1.1.0,>=0.28.0 in /usr/local/lib/python3.12/dist-packages (from spacy) (1.0.13)\n",
            "Requirement already satisfied: cymem<2.1.0,>=2.0.2 in /usr/local/lib/python3.12/dist-packages (from spacy) (2.0.11)\n",
            "Requirement already satisfied: preshed<3.1.0,>=3.0.2 in /usr/local/lib/python3.12/dist-packages (from spacy) (3.0.10)\n",
            "Requirement already satisfied: thinc<8.4.0,>=8.3.4 in /usr/local/lib/python3.12/dist-packages (from spacy) (8.3.6)\n",
            "Requirement already satisfied: wasabi<1.2.0,>=0.9.1 in /usr/local/lib/python3.12/dist-packages (from spacy) (1.1.3)\n",
            "Requirement already satisfied: srsly<3.0.0,>=2.4.3 in /usr/local/lib/python3.12/dist-packages (from spacy) (2.5.1)\n",
            "Requirement already satisfied: catalogue<2.1.0,>=2.0.6 in /usr/local/lib/python3.12/dist-packages (from spacy) (2.0.10)\n",
            "Requirement already satisfied: weasel<0.5.0,>=0.1.0 in /usr/local/lib/python3.12/dist-packages (from spacy) (0.4.1)\n",
            "Requirement already satisfied: typer<1.0.0,>=0.3.0 in /usr/local/lib/python3.12/dist-packages (from spacy) (0.19.2)\n",
            "Requirement already satisfied: tqdm<5.0.0,>=4.38.0 in /usr/local/lib/python3.12/dist-packages (from spacy) (4.67.1)\n",
            "Requirement already satisfied: numpy>=1.19.0 in /usr/local/lib/python3.12/dist-packages (from spacy) (2.0.2)\n",
            "Requirement already satisfied: requests<3.0.0,>=2.13.0 in /usr/local/lib/python3.12/dist-packages (from spacy) (2.32.4)\n",
            "Requirement already satisfied: pydantic!=1.8,!=1.8.1,<3.0.0,>=1.7.4 in /usr/local/lib/python3.12/dist-packages (from spacy) (2.11.10)\n",
            "Requirement already satisfied: jinja2 in /usr/local/lib/python3.12/dist-packages (from spacy) (3.1.6)\n",
            "Requirement already satisfied: setuptools in /usr/local/lib/python3.12/dist-packages (from spacy) (75.2.0)\n",
            "Requirement already satisfied: packaging>=20.0 in /usr/local/lib/python3.12/dist-packages (from spacy) (25.0)\n",
            "Requirement already satisfied: langcodes<4.0.0,>=3.2.0 in /usr/local/lib/python3.12/dist-packages (from spacy) (3.5.0)\n",
            "Requirement already satisfied: filelock in /usr/local/lib/python3.12/dist-packages (from transformers) (3.20.0)\n",
            "Requirement already satisfied: huggingface-hub<1.0,>=0.34.0 in /usr/local/lib/python3.12/dist-packages (from transformers) (0.35.3)\n",
            "Requirement already satisfied: pyyaml>=5.1 in /usr/local/lib/python3.12/dist-packages (from transformers) (6.0.3)\n",
            "Requirement already satisfied: regex!=2019.12.17 in /usr/local/lib/python3.12/dist-packages (from transformers) (2024.11.6)\n",
            "Requirement already satisfied: tokenizers<=0.23.0,>=0.22.0 in /usr/local/lib/python3.12/dist-packages (from transformers) (0.22.1)\n",
            "Requirement already satisfied: safetensors>=0.4.3 in /usr/local/lib/python3.12/dist-packages (from transformers) (0.6.2)\n",
            "Requirement already satisfied: fsspec>=2023.5.0 in /usr/local/lib/python3.12/dist-packages (from huggingface-hub<1.0,>=0.34.0->transformers) (2025.3.0)\n",
            "Requirement already satisfied: typing-extensions>=3.7.4.3 in /usr/local/lib/python3.12/dist-packages (from huggingface-hub<1.0,>=0.34.0->transformers) (4.15.0)\n",
            "Requirement already satisfied: hf-xet<2.0.0,>=1.1.3 in /usr/local/lib/python3.12/dist-packages (from huggingface-hub<1.0,>=0.34.0->transformers) (1.1.10)\n",
            "Requirement already satisfied: language-data>=1.2 in /usr/local/lib/python3.12/dist-packages (from langcodes<4.0.0,>=3.2.0->spacy) (1.3.0)\n",
            "Requirement already satisfied: annotated-types>=0.6.0 in /usr/local/lib/python3.12/dist-packages (from pydantic!=1.8,!=1.8.1,<3.0.0,>=1.7.4->spacy) (0.7.0)\n",
            "Requirement already satisfied: pydantic-core==2.33.2 in /usr/local/lib/python3.12/dist-packages (from pydantic!=1.8,!=1.8.1,<3.0.0,>=1.7.4->spacy) (2.33.2)\n",
            "Requirement already satisfied: typing-inspection>=0.4.0 in /usr/local/lib/python3.12/dist-packages (from pydantic!=1.8,!=1.8.1,<3.0.0,>=1.7.4->spacy) (0.4.2)\n",
            "Requirement already satisfied: charset_normalizer<4,>=2 in /usr/local/lib/python3.12/dist-packages (from requests<3.0.0,>=2.13.0->spacy) (3.4.4)\n",
            "Requirement already satisfied: idna<4,>=2.5 in /usr/local/lib/python3.12/dist-packages (from requests<3.0.0,>=2.13.0->spacy) (3.11)\n",
            "Requirement already satisfied: urllib3<3,>=1.21.1 in /usr/local/lib/python3.12/dist-packages (from requests<3.0.0,>=2.13.0->spacy) (2.5.0)\n",
            "Requirement already satisfied: certifi>=2017.4.17 in /usr/local/lib/python3.12/dist-packages (from requests<3.0.0,>=2.13.0->spacy) (2025.10.5)\n",
            "Requirement already satisfied: blis<1.4.0,>=1.3.0 in /usr/local/lib/python3.12/dist-packages (from thinc<8.4.0,>=8.3.4->spacy) (1.3.0)\n",
            "Requirement already satisfied: confection<1.0.0,>=0.0.1 in /usr/local/lib/python3.12/dist-packages (from thinc<8.4.0,>=8.3.4->spacy) (0.1.5)\n",
            "Requirement already satisfied: click>=8.0.0 in /usr/local/lib/python3.12/dist-packages (from typer<1.0.0,>=0.3.0->spacy) (8.3.0)\n",
            "Requirement already satisfied: shellingham>=1.3.0 in /usr/local/lib/python3.12/dist-packages (from typer<1.0.0,>=0.3.0->spacy) (1.5.4)\n",
            "Requirement already satisfied: rich>=10.11.0 in /usr/local/lib/python3.12/dist-packages (from typer<1.0.0,>=0.3.0->spacy) (13.9.4)\n",
            "Requirement already satisfied: cloudpathlib<1.0.0,>=0.7.0 in /usr/local/lib/python3.12/dist-packages (from weasel<0.5.0,>=0.1.0->spacy) (0.23.0)\n",
            "Requirement already satisfied: smart-open<8.0.0,>=5.2.1 in /usr/local/lib/python3.12/dist-packages (from weasel<0.5.0,>=0.1.0->spacy) (7.3.1)\n",
            "Requirement already satisfied: MarkupSafe>=2.0 in /usr/local/lib/python3.12/dist-packages (from jinja2->spacy) (3.0.3)\n",
            "Requirement already satisfied: marisa-trie>=1.1.0 in /usr/local/lib/python3.12/dist-packages (from language-data>=1.2->langcodes<4.0.0,>=3.2.0->spacy) (1.3.1)\n",
            "Requirement already satisfied: markdown-it-py>=2.2.0 in /usr/local/lib/python3.12/dist-packages (from rich>=10.11.0->typer<1.0.0,>=0.3.0->spacy) (4.0.0)\n",
            "Requirement already satisfied: pygments<3.0.0,>=2.13.0 in /usr/local/lib/python3.12/dist-packages (from rich>=10.11.0->typer<1.0.0,>=0.3.0->spacy) (2.19.2)\n",
            "Requirement already satisfied: wrapt in /usr/local/lib/python3.12/dist-packages (from smart-open<8.0.0,>=5.2.1->weasel<0.5.0,>=0.1.0->spacy) (1.17.3)\n",
            "Requirement already satisfied: mdurl~=0.1 in /usr/local/lib/python3.12/dist-packages (from markdown-it-py>=2.2.0->rich>=10.11.0->typer<1.0.0,>=0.3.0->spacy) (0.1.2)\n"
          ]
        }
      ]
    },
    {
      "cell_type": "markdown",
      "source": [
        "<h3>Step 2: Create the knowledge base</h3>"
      ],
      "metadata": {
        "id": "P_v_JTXxtxuT"
      }
    },
    {
      "cell_type": "markdown",
      "source": [
        "*  Create a simple knowledge base in a structured format (e.g., JavaScript object notation [JSON]). This knowledge base will store known problems and their corresponding solutions. The agent will query this knowledge base to provide solutions based on user input.\n",
        "\n",
        "*  Include at least five issues and their solutions in your knowledge base."
      ],
      "metadata": {
        "id": "XDJHcT9cxvR6"
      }
    },
    {
      "cell_type": "markdown",
      "source": [
        "<h3>Step 3: Implement user interaction with NLP</h3>"
      ],
      "metadata": {
        "id": "D7Vxbp3duQ5I"
      }
    },
    {
      "cell_type": "code",
      "source": [
        "#import the required libraries\n",
        "import json\n",
        "from transformers import pipeline"
      ],
      "metadata": {
        "id": "ssKrZOMHydTc"
      },
      "execution_count": 2,
      "outputs": []
    },
    {
      "cell_type": "code",
      "source": [
        "#load knowledge base\n",
        "with open(\"/content/troubleshooting_knowledge_base.json\", 'r') as f:\n",
        "  knowledge_base = json.load(f)\n",
        "\n",
        "#Initialize a simple NLP model\n",
        "nlp = pipeline(\"question-answering\")"
      ],
      "metadata": {
        "colab": {
          "base_uri": "https://localhost:8080/",
          "height": 249,
          "referenced_widgets": [
            "39f5313b6785443696b22ca36843bfc0",
            "80326413c6794b60a530b41b1595e25e",
            "0c2b2a78863c4918b77de11b3e67b13a",
            "abde26b240794d0ca55d4f328c3b0806",
            "34ca106efbfb44dd9b5ebbcc58225791",
            "f0c44ad642d643e89dae6a935aeded68",
            "889ef0ee1d1248289a2b10c757d6d08f",
            "f249ae287a9b480f98a908d20b7fde64",
            "4a8b5595142a45e88510d3bd006c3a48",
            "dc857bdf4acc46ae90c3d94e1b9be988",
            "530128bc496f496e9c4e8b3d0b2a2a46",
            "811e55e3902941ffba2bd508ddb96c18",
            "75fe46d225f545578b6a5322f411fcb1",
            "7c5b3694e8ed4c28a51e7dd775dd3277",
            "018832aa2fa449b88d409279f5733e17",
            "40c26d497a2e46c6b3f324c53568ff5a",
            "48bfa20e41254772af988d21099735e3",
            "e06054606d4a41788128a4026780ac2e",
            "dbd537e42d4d492d80bf55186a32a5f8",
            "75eab71a40f042a1ac129797baa79988",
            "8d22610dec304d168dfe532ccbc0ffb5",
            "2d2e51b780f74afb93097cdd14ae3ee3",
            "8c4d3b3f34e24d24a159b5cfe06a15e4",
            "2c3009f47657453d82609605ca27deea",
            "b39e68e2998a4ab09027b02f4b20ee6b",
            "3d0be2a7b1094808867e797f5b38b543",
            "2c3f669c87ba49dd9d81b5ae94985325",
            "f560a9383f8a4390a7fcffc7ec63f787",
            "bdd9900cbf7b47868333f2a4c6b8d99e",
            "db190e50218d4519ac4fbe0f64f1e308",
            "5f9d29df3a8a48c2b55e304ac5402338",
            "67895e258cf9427897466519d34a4430",
            "726f79a5e23247968e82d2a7b9c1decf",
            "f8708e484ae54c1bb739536fa73e25e2",
            "8042570d11b242baaa0fca686d7bedc9",
            "5e93b28cf3d844ad9a7d6338f791bdd3",
            "8e36f8eefcb0435e82e3b546ed57d3a3",
            "8d3bb63b23664d78ab5f3cb8776716e6",
            "3cd3cc133e2c47c4b03035d3d8020f10",
            "c59de2e03dec45dc8fba2fa8517791d4",
            "aa6ab2a2d4094dc69c1a12a2138ee45e",
            "796c7a0071a044468ebff65905747ab9",
            "c29f7eac76e74611a922613a30f7ddde",
            "dfcabaf4623a41a9a821bd2c0b528958",
            "63b1e645c13f4a6dbb2966826b5e98e0",
            "e0f6c3ac1bcb4e9eb3e0901a633181ff",
            "a5b9dde2b64f476d8c7f4dc093a02246",
            "a1eb5a11f2f24db1a571b06a2d95977d",
            "591e95df7aaf4a1a94ec5a0a704b491c",
            "103fbd9a547847da858be7e48dc12072",
            "fa449b5cf7af4705962611e88f5c5f34",
            "3534cef3d2bf4e21bfa9fa7aa0d31f84",
            "9a8b0f14c6e142fda0817daa4232eb5b",
            "49851bb03ec14a968db65a8f0ed59530",
            "afdb70fa3c6344e38b0191996a7f0db8"
          ]
        },
        "id": "4TRerXoQysQK",
        "outputId": "1e9a03a8-7c5b-466a-80bb-60b4c80dd37c"
      },
      "execution_count": 3,
      "outputs": [
        {
          "output_type": "stream",
          "name": "stderr",
          "text": [
            "No model was supplied, defaulted to distilbert/distilbert-base-cased-distilled-squad and revision 564e9b5 (https://huggingface.co/distilbert/distilbert-base-cased-distilled-squad).\n",
            "Using a pipeline without specifying a model name and revision in production is not recommended.\n"
          ]
        },
        {
          "output_type": "display_data",
          "data": {
            "text/plain": [
              "config.json:   0%|          | 0.00/473 [00:00<?, ?B/s]"
            ],
            "application/vnd.jupyter.widget-view+json": {
              "version_major": 2,
              "version_minor": 0,
              "model_id": "39f5313b6785443696b22ca36843bfc0"
            }
          },
          "metadata": {}
        },
        {
          "output_type": "display_data",
          "data": {
            "text/plain": [
              "model.safetensors:   0%|          | 0.00/261M [00:00<?, ?B/s]"
            ],
            "application/vnd.jupyter.widget-view+json": {
              "version_major": 2,
              "version_minor": 0,
              "model_id": "811e55e3902941ffba2bd508ddb96c18"
            }
          },
          "metadata": {}
        },
        {
          "output_type": "display_data",
          "data": {
            "text/plain": [
              "tokenizer_config.json:   0%|          | 0.00/49.0 [00:00<?, ?B/s]"
            ],
            "application/vnd.jupyter.widget-view+json": {
              "version_major": 2,
              "version_minor": 0,
              "model_id": "8c4d3b3f34e24d24a159b5cfe06a15e4"
            }
          },
          "metadata": {}
        },
        {
          "output_type": "display_data",
          "data": {
            "text/plain": [
              "vocab.txt: 0.00B [00:00, ?B/s]"
            ],
            "application/vnd.jupyter.widget-view+json": {
              "version_major": 2,
              "version_minor": 0,
              "model_id": "f8708e484ae54c1bb739536fa73e25e2"
            }
          },
          "metadata": {}
        },
        {
          "output_type": "display_data",
          "data": {
            "text/plain": [
              "tokenizer.json: 0.00B [00:00, ?B/s]"
            ],
            "application/vnd.jupyter.widget-view+json": {
              "version_major": 2,
              "version_minor": 0,
              "model_id": "63b1e645c13f4a6dbb2966826b5e98e0"
            }
          },
          "metadata": {}
        },
        {
          "output_type": "stream",
          "name": "stderr",
          "text": [
            "Device set to use cpu\n"
          ]
        }
      ]
    },
    {
      "cell_type": "code",
      "source": [
        "#Get user input\n",
        "user_input = input(\"Please enter your problem:\")\n",
        "\n",
        "#search knowledege base for a simple text-based match\n",
        "for issue, details in knowledge_base.items():\n",
        "  if details[\"symptom\"].lower() in user_input.lower():\n",
        "    print(f\"Possible Solution: {details[\"solution\"]}\")\n",
        "    break\n",
        "else:\n",
        "  print(\"No matching issue found in the knowledge base.\")"
      ],
      "metadata": {
        "colab": {
          "base_uri": "https://localhost:8080/"
        },
        "id": "hFvqFYsnyfNN",
        "outputId": "0599e4e6-1eae-4f82-ea30-f7387d876fb3"
      },
      "execution_count": 6,
      "outputs": [
        {
          "output_type": "stream",
          "name": "stdout",
          "text": [
            "Please enter your problem:\"My internet is very slow.\"\n",
            "Possible Solution: Try restarting your router and checking your connection settings.\n"
          ]
        }
      ]
    },
    {
      "cell_type": "markdown",
      "source": [
        "<h3>Step 4: Add diagnostic logic<h3>"
      ],
      "metadata": {
        "id": "W8zSN47Ou1_D"
      }
    },
    {
      "cell_type": "code",
      "source": [
        "def diagnose_network_issue():\n",
        "  print(\"Have you restarted your router?\")\n",
        "  response = input(\"Yes/No: \").strip().lower()\n",
        "  if response == \"no\":\n",
        "    print(\"Please restart your router and try again.\")\n",
        "  else:\n",
        "    print(\"Try resetting your network settings or contacting your provider. \")\n",
        "\n",
        "#Trigger diagnostic logic if the issue is related to the network\n",
        "if \"internet\" in user_input.lower():\n",
        "  diagnose_network_issue()"
      ],
      "metadata": {
        "colab": {
          "base_uri": "https://localhost:8080/"
        },
        "id": "3z-t49B1ut_9",
        "outputId": "eb135df5-2ada-4daf-9566-a9ca9ed3c11c"
      },
      "execution_count": 7,
      "outputs": [
        {
          "output_type": "stream",
          "name": "stdout",
          "text": [
            "Have you restarted your router?\n",
            "Yes/No: No\n",
            "Please restart your router and try again.\n"
          ]
        }
      ]
    },
    {
      "cell_type": "markdown",
      "source": [
        "<h3>Step 5: Automate common fixes</h3>"
      ],
      "metadata": {
        "id": "rrdwNsP-vUOi"
      }
    },
    {
      "cell_type": "code",
      "source": [
        "def automate_fix(issue):\n",
        "    if issue == \"slow_internet\":\n",
        "        print(\"Resetting network settings...\")\n",
        "        # Simulated network reset\n",
        "        print(\"Network settings have been reset. Please check your connection.\")\n",
        "    else:\n",
        "        print(\"Automation is not available for this issue.\")\n",
        "\n",
        "# Simulate automatic fix\n",
        "if \"internet\" in user_input.lower():\n",
        "    automate_fix(\"slow_internet\")"
      ],
      "metadata": {
        "colab": {
          "base_uri": "https://localhost:8080/"
        },
        "id": "Dq_6QwevvCtc",
        "outputId": "95ac3e03-6c60-4113-a56d-b7396c407388"
      },
      "execution_count": 8,
      "outputs": [
        {
          "output_type": "stream",
          "name": "stdout",
          "text": [
            "Resetting network settings...\n",
            "Network settings have been reset. Please check your connection.\n"
          ]
        }
      ]
    },
    {
      "cell_type": "markdown",
      "source": [
        "<h3>Step 6: Implement a feedback mechanism</h3>"
      ],
      "metadata": {
        "id": "0ig2X-4HwEui"
      }
    },
    {
      "cell_type": "code",
      "source": [
        "def collect_feedback():\n",
        "    feedback = input(\"Did this solution resolve your issue? (Yes/No): \").strip().lower()\n",
        "    if feedback == \"yes\":\n",
        "        print(\"Great! Your feedback has been recorded.\")\n",
        "    else:\n",
        "        print(\"We're sorry the issue persists. We'll improve our solution based on your input.\")\n",
        "\n",
        "# Collect feedback after providing a solution\n",
        "collect_feedback()"
      ],
      "metadata": {
        "colab": {
          "base_uri": "https://localhost:8080/"
        },
        "id": "X9ErBMTMvs_4",
        "outputId": "89df4e64-7986-4cc2-943f-a4071d1caeff"
      },
      "execution_count": 9,
      "outputs": [
        {
          "output_type": "stream",
          "name": "stdout",
          "text": [
            "Did this solution resolve your issue? (Yes/No): Yes\n",
            "Great! Your feedback has been recorded.\n"
          ]
        }
      ]
    }
  ],
  "metadata": {
    "colab": {
      "provenance": [],
      "authorship_tag": "ABX9TyPp/HDhdJvTHGt6VIf2yYaz",
      "include_colab_link": true
    },
    "kernelspec": {
      "display_name": "Python 3",
      "name": "python3"
    },
    "language_info": {
      "name": "python"
    },
  "nbformat": 4,
  "nbformat_minor": 0
}
