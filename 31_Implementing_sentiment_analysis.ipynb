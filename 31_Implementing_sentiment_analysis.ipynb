{
  "cells": [
    {
      "cell_type": "markdown",
      "source": [
        "<a href=\"https://colab.research.google.com/github/amzad-786githumb/AI_and_ML_by-Microsoft/blob/main/31_Implementing_sentiment_analysis.ipynb\" target=\"_parent\"><img src=\"https://colab.research.google.com/assets/colab-badge.svg\" alt=\"Open In Colab\"/></a>"
      ],
      "metadata": {}
    },
    {
      "cell_type": "markdown",
      "source": [
        "<h2> Tasks:</h2>\n",
        "* Describe how to implement a sentiment analysis model using a pre-trained pipeline.\n",
        "* Input both predefined and custom text for a sentiment classification.\n",
        "* Interpret the results and evaluate sentiment analysis in practical applications."
      ],
      "metadata": {}
    },
    {
      "cell_type": "markdown",
      "source": [
        "<h3>Step 1: Set up the environment</h3>"
      ],
      "metadata": {}
    },
    {
      "cell_type": "code",
      "source": [
        "!pip install torch torchvision torchaudio\n",
        "!pip install tokenizers\n",
        "!pip install transformers"
      ],
      "metadata": {},
      "execution_count": null,
      "outputs": []
    },
    {
      "cell_type": "markdown",
      "source": [
        "<h3>Step 2: Import libraries and load the pretrained model</h3>"
      ],
      "metadata": {}
    },
    {
      "cell_type": "code",
      "source": [
        "from transformers import pipeline\n",
        "\n",
        "# Initialize sentiment analyzer with pre-trained model\n",
        "sentiment_analyzer = pipeline(\n",
        "    \"sentiment-analysis\",\n",
        "    model=\"distilbert-base-uncased-finetuned-sst-2-english\"\n",
        ")\n",
        "\n",
        "print(\"Sentiment analysis model loaded successfully!\")"
      ],
      "metadata": {},
      "execution_count": null,
      "outputs": []
    },
    {
      "cell_type": "markdown",
      "source": [
        "<h3>Step 3: Input text for sentiment analysis</h3>"
      ],
      "metadata": {}
    },
    {
      "cell_type": "code",
      "source": [
        "# Sample texts for sentiment analysis\n",
        "texts = [\n",
        "    \"I love this product! It's amazing.\",\n",
        "    \"The service was terrible and I'm very disappointed.\",\n",
        "    \"It's okay, not great but not bad either.\"\n",
        "]\n",
        "\n",
        "# Analyze the sentiment of each text\n",
        "for text in texts:\n",
        "    result = sentiment_analyzer(text)\n",
        "    print(f\"Text: {text}\")\n",
        "    print(f\"Sentiment: {result[0]['label']}\")\n",
        "    print(f\"Confidence: {result[0]['score']:.2f}\")\n",
        "    print()"
      ],
      "metadata": {},
      "execution_count": null,
      "outputs": []
    },
    {
      "cell_type": "markdown",
      "source": [
        "<h3>Step 4: Test with custom input</h3>"
      ],
      "metadata": {}
    },
    {
      "cell_type": "code",
      "source": [
        "# Accept user input for custom sentiment analysis\n",
        "custom_text = input(\"Enter a sentence for sentiment analysis: \")\n",
        "\n",
        "# Analyze the sentiment\n",
        "result = sentiment_analyzer(custom_text)\n",
        "\n",
        "print(f\"\\nSentiment: {result[0]['label']}\")\n",
        "print(f\"Confidence: {result[0]['score']:.2f}\")"
      ],
      "metadata": {},
      "execution_count": null,
      "outputs": []
    },
    {
      "cell_type": "markdown",
      "source": [
        "<h3>Step 5: Enhance the sentiment analysis system</h3>"
      ],
      "metadata": {}
    },
    {
      "cell_type": "markdown",
      "source": [
        "* Allowing the model to process longer paragraphs instead of single sentences.\n",
        "* Storing the sentiment results in a file for further analysis.\n",
        "* Integrating sentiment analysis into an application, such as a customer feedback or social media monitoring tool."
      ],
      "metadata": {}
    },
    {
      "cell_type": "code",
      "source": [
        "# Allow the model to process a longer paragraph of text\n",
        "long_text = \"\"\"\n",
        "The product is good overall, but there are some issues with battery life.\n",
        "I wish it lasted longer. However, the design is sleek, and I’m happy with the performance so far.\n",
        "\"\"\"\n",
        "result = sentiment_analyzer(long_text)\n",
        "for res in result:\n",
        "    print(f\"Sentiment: {res['label']}, Confidence: {res['score']:.2f}\")"
      ],
      "metadata": {},
      "execution_count": null,
      "outputs": []
    }
  ],
  "metadata": {
    "colab": {
      "provenance": [],
      "include_colab_link": true
    },
    "kernelspec": {
      "display_name": "Python 3",
      "name": "python3"
    },
    "language_info": {
      "name": "python"
    }
  },
  "nbformat": 4,
  "nbformat_minor": 0
}
