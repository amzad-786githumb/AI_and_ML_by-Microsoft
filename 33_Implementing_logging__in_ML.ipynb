{
  "cells": [
    {
      "cell_type": "markdown",
      "metadata": {
        "id": "view-in-github",
        "colab_type": "text"
      },
      "source": [
        "<a href=\"https://colab.research.google.com/github/amzad-786githumb/AI_and_ML_by-Microsoft/blob/main/33_Implementing_logging__in_ML.ipynb\" target=\"_parent\"><img src=\"https://colab.research.google.com/assets/colab-badge.svg\" alt=\"Open In Colab\"/></a>"
      ]
    },
    {
      "cell_type": "markdown",
      "source": [
        "<h2> Tasks:</h2>\n",
        "\n",
        "*  Set up Python’s logging module to capture and store logs.\n",
        "\n",
        "*  Implement logging at key stages of the machine learning pipeline, including data preprocessing, model training, and predictions.\n",
        "\n",
        "*  Log errors and exceptions to a file for debugging purposes."
      ],
      "metadata": {
        "id": "svQneDrzshXF"
      }
    },
    {
      "cell_type": "markdown",
      "source": [
        "<h3>Step 1: Set up logging</h3>"
      ],
      "metadata": {
        "id": "vxJOPPIds7ZF"
      }
    },
    {
      "cell_type": "code",
      "source": [
        "import logging\n",
        "\n",
        "# Set up logging to a file\n",
        "logging.basicConfig(filename='ml_pipeline.log', level=logging.INFO)\n",
        "\n",
        "# Example log message\n",
        "logging.info(\"Logging setup complete.\")"
      ],
      "metadata": {
        "id": "pho9SUn0srjx"
      },
      "execution_count": 1,
      "outputs": []
    },
    {
      "cell_type": "markdown",
      "source": [
        "<h3>Step 2: Log data preprocessing</h3>"
      ],
      "metadata": {
        "id": "P_v_JTXxtxuT"
      }
    },
    {
      "cell_type": "code",
      "source": [
        "import pandas as pd\n",
        "\n",
        "# Log the start of data loading\n",
        "logging.info(\"Loading dataset...\")\n",
        "\n",
        "# Load the dataset\n",
        "df = pd.read_csv('/content/Customer_churn.csv')\n",
        "logging.info(\"Dataset loaded successfully.\")\n",
        "\n",
        "# Log the start of preprocessing\n",
        "logging.info(\"Starting data preprocessing...\")\n",
        "\n",
        "# Example preprocessing: handling missing values\n",
        "df.fillna(0, inplace=True)\n",
        "logging.info(\"Missing values filled with 0.\")\n",
        "\n",
        "# Log the completion of preprocessing\n",
        "logging.info(\"Data preprocessing completed.\")"
      ],
      "metadata": {
        "id": "CtY4ugFMQxNV"
      },
      "execution_count": 2,
      "outputs": []
    },
    {
      "cell_type": "markdown",
      "source": [
        "<h3>Step 3: Log model training</h3>"
      ],
      "metadata": {
        "id": "D7Vxbp3duQ5I"
      }
    },
    {
      "cell_type": "code",
      "source": [
        "from sklearn.tree import DecisionTreeClassifier\n",
        "from sklearn.model_selection import train_test_split\n",
        "\n",
        "# Log the start of model training\n",
        "logging.info(\"Starting model training...\")\n",
        "\n",
        "try:\n",
        "    # Assuming 'df' is your DataFrame from the previous step\n",
        "    # Define features (X) and target (y)\n",
        "    # You'll need to replace 'TargetColumn' with the actual name of your target variable column\n",
        "    # and handle categorical features if necessary\n",
        "    X = df.drop('Churn', axis=1)  # Replace 'Churn' with your target column name\n",
        "    y = df['Churn'] # Replace 'Churn' with your target column name\n",
        "\n",
        "    # Split the data into training and testing sets\n",
        "    X_train, X_test, y_train, y_test = train_test_split(X, y, test_size=0.2, random_state=42)\n",
        "\n",
        "    # Train the decision tree model\n",
        "    model = DecisionTreeClassifier()\n",
        "    # Convert all columns in X_train to numeric type, coercing errors to NaN\n",
        "    X_train = X_train.apply(pd.to_numeric, errors='coerce')\n",
        "    # Drop columns with NaN values that resulted from coercion if any non-numeric data was present\n",
        "    X_train = X_train.dropna(axis=1)\n",
        "    # Do the same for X_test to ensure consistency\n",
        "    X_test = X_test.apply(pd.to_numeric, errors='coerce')\n",
        "    X_test = X_test.dropna(axis=1)\n",
        "\n",
        "    # Check if there are still features left to train on\n",
        "    if not X_train.empty:\n",
        "        model.fit(X_train, y_train)\n",
        "        logging.info(\"Model trained successfully.\")\n",
        "\n",
        "        # Example logging of training accuracy (if applicable)\n",
        "        accuracy = model.score(X_train, y_train)\n",
        "        logging.info(f\"Training accuracy: {accuracy:.2f}\")\n",
        "    else:\n",
        "        logging.error(\"No numeric features left after preprocessing to train the model.\")\n",
        "\n",
        "except Exception as e:\n",
        "    logging.error(f\"Error during model training: {e}\")"
      ],
      "metadata": {
        "id": "ssKrZOMHydTc"
      },
      "execution_count": 4,
      "outputs": []
    },
    {
      "cell_type": "markdown",
      "source": [
        "<h3>Step 5: Log errors and exceptions<h3>"
      ],
      "metadata": {
        "id": "W8zSN47Ou1_D"
      }
    },
    {
      "cell_type": "code",
      "source": [
        "# Example: logging an exception during data validation\n",
        "def validate_data(data):\n",
        "    try:\n",
        "        if not isinstance(data, pd.DataFrame):\n",
        "            raise ValueError(\"Input must be a pandas DataFrame.\")\n",
        "        logging.info(\"Data validation successful.\")\n",
        "    except ValueError as e:\n",
        "        logging.error(f\"Data validation error: {e}\")\n",
        "\n",
        "# Validate the dataset\n",
        "validate_data(df)"
      ],
      "metadata": {
        "id": "3z-t49B1ut_9"
      },
      "execution_count": 5,
      "outputs": []
    }
  ],
  "metadata": {
    "colab": {
      "provenance": [],
      "authorship_tag": "ABX9TyMYveViuel6k+Xyh4Cplq42",
      "include_colab_link": true
    },
    "kernelspec": {
      "display_name": "Python 3",
      "name": "python3"
    },
    "language_info": {
      "name": "python"
    }
  },
  "nbformat": 4,
  "nbformat_minor": 0
}