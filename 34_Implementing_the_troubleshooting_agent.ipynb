{
  "cells": [
    {
      "cell_type": "markdown",
      "metadata": {
        "id": "view-in-github",
        "colab_type": "text"
      },
      "source": [
        "<a href=\"https://colab.research.google.com/github/amzad-786githumb/AI_and_ML_by-Microsoft/blob/main/34_Implementing_the_troubleshooting_agent.ipynb\" target=\"_parent\"><img src=\"https://colab.research.google.com/assets/colab-badge.svg\" alt=\"Open In Colab\"/></a>"
      ]
    },
    {
      "cell_type": "markdown",
      "source": [
        "<h2> Tasks:</h2>\n",
        "\n",
        "*  Identify anomalies in system logs.\n",
        "\n",
        "*  Implement root cause analysis to identify the source of issues.\n",
        "\n",
        "*  Create solution recommendations based on detected problems."
      ],
      "metadata": {
        "id": "svQneDrzshXF"
      }
    },
    {
      "cell_type": "markdown",
      "source": [
        "<h3>Step 1: Set up the environment</h3>"
      ],
      "metadata": {
        "id": "vxJOPPIds7ZF"
      }
    },
    {
      "cell_type": "code",
      "source": [
        "pip install pandas scikit-learn logging"
      ],
      "metadata": {
        "id": "pho9SUn0srjx",
        "colab": {
          "base_uri": "https://localhost:8080/"
        },
        "outputId": "c16c8b8f-daa3-4fb9-f621-323aef6a54df"
      },
      "execution_count": 2,
      "outputs": [
        {
          "output_type": "stream",
          "name": "stdout",
          "text": [
            "Requirement already satisfied: pandas in /usr/local/lib/python3.12/dist-packages (2.2.2)\n",
            "Requirement already satisfied: scikit-learn in /usr/local/lib/python3.12/dist-packages (1.6.1)\n",
            "Collecting logging\n",
            "  Using cached logging-0.4.9.6.tar.gz (96 kB)\n",
            "  \u001b[1;31merror\u001b[0m: \u001b[1msubprocess-exited-with-error\u001b[0m\n",
            "  \n",
            "  \u001b[31m×\u001b[0m \u001b[32mpython setup.py egg_info\u001b[0m did not run successfully.\n",
            "  \u001b[31m│\u001b[0m exit code: \u001b[1;36m1\u001b[0m\n",
            "  \u001b[31m╰─>\u001b[0m See above for output.\n",
            "  \n",
            "  \u001b[1;35mnote\u001b[0m: This error originates from a subprocess, and is likely not a problem with pip.\n",
            "  Preparing metadata (setup.py) ... \u001b[?25l\u001b[?25herror\n",
            "\u001b[1;31merror\u001b[0m: \u001b[1mmetadata-generation-failed\u001b[0m\n",
            "\n",
            "\u001b[31m×\u001b[0m Encountered error while generating package metadata.\n",
            "\u001b[31m╰─>\u001b[0m See above for output.\n",
            "\n",
            "\u001b[1;35mnote\u001b[0m: This is an issue with the package mentioned above, not pip.\n",
            "\u001b[1;36mhint\u001b[0m: See above for details.\n"
          ]
        }
      ]
    },
    {
      "cell_type": "markdown",
      "source": [
        "<h3>Step 2: Load and explore the dataset</h3>"
      ],
      "metadata": {
        "id": "P_v_JTXxtxuT"
      }
    },
    {
      "cell_type": "code",
      "source": [
        "import pandas as pd\n",
        "import numpy as np\n",
        "\n",
        "# Set random seed for reproducibility\n",
        "np.random.seed(42)\n",
        "\n",
        "# Generate synthetic data\n",
        "n_samples = 1000\n",
        "data = {\n",
        "    'timestamp': pd.date_range(start='2024-01-01', periods=n_samples, freq='h'),\n",
        "    'cpu_usage': np.random.normal(50, 10, n_samples),       # CPU usage in percentage\n",
        "    'memory_usage': np.random.normal(60, 15, n_samples),    # Memory usage in percentage\n",
        "    'network_latency': np.random.normal(100, 20, n_samples), # Network latency in ms\n",
        "    'disk_io': np.random.normal(75, 10, n_samples),         # Disk I/O in MB/s\n",
        "    'error_rate': np.random.choice([0, 1], n_samples, p=[0.95, 0.05])  # 5% error rate\n",
        "}\n",
        "\n",
        "# Create DataFrame\n",
        "df = pd.DataFrame(data)\n",
        "\n",
        "# Display the first few rows of the dataset\n",
        "print(df.head())\n",
        "print(df.info())"
      ],
      "metadata": {
        "id": "CtY4ugFMQxNV",
        "colab": {
          "base_uri": "https://localhost:8080/"
        },
        "outputId": "916c4768-4059-442b-eff2-1016abdfbdcc"
      },
      "execution_count": 3,
      "outputs": [
        {
          "output_type": "stream",
          "name": "stdout",
          "text": [
            "            timestamp  cpu_usage  memory_usage  network_latency    disk_io  \\\n",
            "0 2024-01-01 00:00:00  54.967142     80.990332        86.496435  55.921924   \n",
            "1 2024-01-01 01:00:00  48.617357     73.869505        97.109627  66.396150   \n",
            "2 2024-01-01 02:00:00  56.476885     60.894456        84.151602  70.863945   \n",
            "3 2024-01-01 03:00:00  65.230299     50.295948        93.840769  93.876877   \n",
            "4 2024-01-01 04:00:00  47.658466     70.473350        62.127707  80.565531   \n",
            "\n",
            "   error_rate  \n",
            "0           0  \n",
            "1           0  \n",
            "2           1  \n",
            "3           0  \n",
            "4           0  \n",
            "<class 'pandas.core.frame.DataFrame'>\n",
            "RangeIndex: 1000 entries, 0 to 999\n",
            "Data columns (total 6 columns):\n",
            " #   Column           Non-Null Count  Dtype         \n",
            "---  ------           --------------  -----         \n",
            " 0   timestamp        1000 non-null   datetime64[ns]\n",
            " 1   cpu_usage        1000 non-null   float64       \n",
            " 2   memory_usage     1000 non-null   float64       \n",
            " 3   network_latency  1000 non-null   float64       \n",
            " 4   disk_io          1000 non-null   float64       \n",
            " 5   error_rate       1000 non-null   int64         \n",
            "dtypes: datetime64[ns](1), float64(4), int64(1)\n",
            "memory usage: 47.0 KB\n",
            "None\n"
          ]
        }
      ]
    },
    {
      "cell_type": "markdown",
      "source": [
        "<h3>Step 3: Implement issue detection</h3>"
      ],
      "metadata": {
        "id": "D7Vxbp3duQ5I"
      }
    },
    {
      "cell_type": "code",
      "source": [
        "from sklearn.ensemble import IsolationForest\n",
        "\n",
        "# Implement anomaly detection using Isolation Forest\n",
        "def detect_anomalies(data):\n",
        "    model = IsolationForest(contamination=0.05, random_state=42)\n",
        "    model.fit(data)\n",
        "    anomalies = model.predict(data)\n",
        "    return anomalies\n",
        "\n",
        "# Detect anomalies in the dataset\n",
        "numeric_data = df.select_dtypes(include=[float, int]) # Only numeric columns\n",
        "df['anomaly'] = detect_anomalies(numeric_data)\n",
        "\n",
        "print(df['anomaly'].value_counts()) # -1 denotes an anomaly"
      ],
      "metadata": {
        "id": "ssKrZOMHydTc",
        "colab": {
          "base_uri": "https://localhost:8080/"
        },
        "outputId": "748d43b1-a3de-4a19-be4c-03f01839da48"
      },
      "execution_count": 4,
      "outputs": [
        {
          "output_type": "stream",
          "name": "stdout",
          "text": [
            "anomaly\n",
            " 1    950\n",
            "-1     50\n",
            "Name: count, dtype: int64\n"
          ]
        }
      ]
    },
    {
      "cell_type": "markdown",
      "source": [
        "<h3>Step 4: Determine which specific value or values made the log anomalous<h3>"
      ],
      "metadata": {
        "id": "W8zSN47Ou1_D"
      }
    },
    {
      "cell_type": "code",
      "source": [
        "from scipy.stats import zscore\n",
        "\n",
        "# Calculate z-scores to identify anomalous values per column in anomalous rows\n",
        "z_scores = numeric_data.apply(zscore)\n",
        "\n",
        "# Function to identify anomalous columns for each row\n",
        "def find_anomalous_columns(row, threshold=3):\n",
        "    return [col for col in numeric_data.columns if abs(z_scores.loc[row.name, col]) > threshold]\n",
        "\n",
        "# Apply the function to each anomalous row\n",
        "df['anomalous_columns'] = df.apply(lambda row: find_anomalous_columns(row) if row['anomaly'] == -1 else [], axis=1)\n",
        "\n",
        "# Display rows with anomalies and their anomalous columns\n",
        "print(df[df['anomaly'] == -1][['timestamp', 'anomaly', 'anomalous_columns']])"
      ],
      "metadata": {
        "id": "3z-t49B1ut_9",
        "colab": {
          "base_uri": "https://localhost:8080/"
        },
        "outputId": "8cc54c54-6470-43ac-cc31-35cb1f25d4d6"
      },
      "execution_count": 5,
      "outputs": [
        {
          "output_type": "stream",
          "name": "stdout",
          "text": [
            "              timestamp  anomaly              anomalous_columns\n",
            "37  2024-01-02 13:00:00       -1                   [error_rate]\n",
            "38  2024-01-02 14:00:00       -1                   [error_rate]\n",
            "62  2024-01-03 14:00:00       -1                   [error_rate]\n",
            "132 2024-01-06 12:00:00       -1                   [error_rate]\n",
            "179 2024-01-08 11:00:00       -1                   [error_rate]\n",
            "192 2024-01-09 00:00:00       -1                   [error_rate]\n",
            "208 2024-01-09 16:00:00       -1                   [error_rate]\n",
            "241 2024-01-11 01:00:00       -1                   [error_rate]\n",
            "245 2024-01-11 05:00:00       -1                   [error_rate]\n",
            "251 2024-01-11 11:00:00       -1                   [error_rate]\n",
            "262 2024-01-11 22:00:00       -1        [cpu_usage, error_rate]\n",
            "272 2024-01-12 08:00:00       -1                   [error_rate]\n",
            "285 2024-01-12 21:00:00       -1                   [error_rate]\n",
            "315 2024-01-14 03:00:00       -1                   [error_rate]\n",
            "329 2024-01-14 17:00:00       -1                   [error_rate]\n",
            "330 2024-01-14 18:00:00       -1                   [error_rate]\n",
            "334 2024-01-14 22:00:00       -1                   [error_rate]\n",
            "350 2024-01-15 14:00:00       -1                   [error_rate]\n",
            "354 2024-01-15 18:00:00       -1                   [error_rate]\n",
            "371 2024-01-16 11:00:00       -1                   [error_rate]\n",
            "386 2024-01-17 02:00:00       -1                   [error_rate]\n",
            "387 2024-01-17 03:00:00       -1                   [error_rate]\n",
            "413 2024-01-18 05:00:00       -1                   [error_rate]\n",
            "471 2024-01-20 15:00:00       -1                             []\n",
            "489 2024-01-21 09:00:00       -1                   [error_rate]\n",
            "498 2024-01-21 18:00:00       -1                   [error_rate]\n",
            "505 2024-01-22 01:00:00       -1                   [error_rate]\n",
            "521 2024-01-22 17:00:00       -1  [network_latency, error_rate]\n",
            "544 2024-01-23 16:00:00       -1                             []\n",
            "586 2024-01-25 10:00:00       -1                   [error_rate]\n",
            "602 2024-01-26 02:00:00       -1                   [error_rate]\n",
            "626 2024-01-27 02:00:00       -1                   [error_rate]\n",
            "639 2024-01-27 15:00:00       -1                   [error_rate]\n",
            "671 2024-01-28 23:00:00       -1                   [error_rate]\n",
            "675 2024-01-29 03:00:00       -1                   [error_rate]\n",
            "676 2024-01-29 04:00:00       -1                   [error_rate]\n",
            "716 2024-01-30 20:00:00       -1          [disk_io, error_rate]\n",
            "720 2024-01-31 00:00:00       -1                   [error_rate]\n",
            "735 2024-01-31 15:00:00       -1                   [error_rate]\n",
            "739 2024-01-31 19:00:00       -1                   [error_rate]\n",
            "758 2024-02-01 14:00:00       -1                   [error_rate]\n",
            "779 2024-02-02 11:00:00       -1                   [error_rate]\n",
            "826 2024-02-04 10:00:00       -1                   [error_rate]\n",
            "844 2024-02-05 04:00:00       -1                   [error_rate]\n",
            "861 2024-02-05 21:00:00       -1                   [error_rate]\n",
            "872 2024-02-06 08:00:00       -1                   [error_rate]\n",
            "903 2024-02-07 15:00:00       -1                   [error_rate]\n",
            "910 2024-02-07 22:00:00       -1                   [error_rate]\n",
            "933 2024-02-08 21:00:00       -1                   [error_rate]\n",
            "940 2024-02-09 04:00:00       -1                   [error_rate]\n"
          ]
        }
      ]
    },
    {
      "cell_type": "markdown",
      "source": [
        "<h3>Step 5: Perform root cause analysis</h3>"
      ],
      "metadata": {
        "id": "Yv9r-VEAVWXd"
      }
    },
    {
      "cell_type": "code",
      "source": [
        "from sklearn.tree import DecisionTreeClassifier\n",
        "\n",
        "# Train a decision tree for root cause analysis\n",
        "def root_cause_analysis(X_train, y_train, X_test):\n",
        "    model = DecisionTreeClassifier()\n",
        "    model.fit(X_train, y_train)\n",
        "    predictions = model.predict(X_test)\n",
        "    return predictions\n",
        "\n",
        "# Example root cause analysis (assuming data is preprocessed)\n",
        "X_train = df.drop(['anomaly', 'timestamp', 'anomalous_columns'], axis=1)\n",
        "y_train = df['anomaly']\n",
        "predicted_causes = root_cause_analysis(X_train, y_train, X_train)\n",
        "\n",
        "# Display predicted causes\n",
        "print(\"Predicted causes of anomalies:\")\n",
        "print(pd.Series(predicted_causes).value_counts())"
      ],
      "metadata": {
        "colab": {
          "base_uri": "https://localhost:8080/"
        },
        "id": "fYbNGaMHVX9g",
        "outputId": "0bac3ec8-9d53-4b3f-8495-3fab4abb0a8f"
      },
      "execution_count": 7,
      "outputs": [
        {
          "output_type": "stream",
          "name": "stdout",
          "text": [
            "Predicted causes of anomalies:\n",
            " 1    950\n",
            "-1     50\n",
            "Name: count, dtype: int64\n"
          ]
        }
      ]
    },
    {
      "cell_type": "markdown",
      "source": [
        "<h3>Step 6: Recommend a solution</h3>"
      ],
      "metadata": {
        "id": "dLWH7AWgV1Ye"
      }
    },
    {
      "cell_type": "code",
      "source": [
        "# Example solution recommendation based on root cause\n",
        "def recommend_solution(root_cause):\n",
        "    solutions = {\n",
        "        \"network_error\": \"Restart the network service.\",\n",
        "        \"database_issue\": \"Check the database connection and restart the service.\",\n",
        "        \"high_cpu_usage\": \"Optimize running processes or allocate more resources.\"\n",
        "    }\n",
        "    return solutions.get(root_cause, \"No recommendation available.\")\n",
        "\n",
        "# Recommend a solution based on a detected root cause\n",
        "solution = recommend_solution(\"network_error\")\n",
        "print(f\"Recommended solution: {solution}\")"
      ],
      "metadata": {
        "colab": {
          "base_uri": "https://localhost:8080/"
        },
        "id": "lJ8vaZDmV21S",
        "outputId": "ff6c5791-eddb-47b7-ff6f-f6ea240e2a1f"
      },
      "execution_count": 8,
      "outputs": [
        {
          "output_type": "stream",
          "name": "stdout",
          "text": [
            "Recommended solution: Restart the network service.\n"
          ]
        }
      ]
    },
    {
      "cell_type": "markdown",
      "source": [
        "<h3>Step 7: Test the troubleshooting agent</h3>"
      ],
      "metadata": {
        "id": "65fhuCXbWOu3"
      }
    },
    {
      "cell_type": "code",
      "source": [
        "# Simulate a network error by altering the dataset\n",
        "df.loc[0, 'network_latency'] = 1000  # Simulating high network latency\n",
        "\n",
        "# Run the troubleshooting agent\n",
        "numeric_data_test = df.select_dtypes(include=[float, int]) # Select only numeric columns\n",
        "anomalies = detect_anomalies(numeric_data_test)\n",
        "\n",
        "# Prepare data for root cause analysis - drop non-feature columns\n",
        "X_test = numeric_data_test.drop(['anomaly'], axis=1, errors='ignore') # Drop 'anomaly' if it exists in numeric_data_test\n",
        "predicted_causes = root_cause_analysis(X_train, y_train, X_test)\n",
        "\n",
        "# Find the index of the modified row (row 0) in the test data\n",
        "modified_row_index_in_test = X_test.index.get_loc(0)\n",
        "\n",
        "# Get the predicted cause for the modified row\n",
        "predicted_cause_for_modified_row = predicted_causes[modified_row_index_in_test]\n",
        "\n",
        "\n",
        "solution = recommend_solution(\"network_error\") # Assuming network_error is the expected root cause for the simulated anomaly\n",
        "print(f\"Detected issue for row 0: {predicted_cause_for_modified_row}\")\n",
        "print(f\"Recommended solution: {solution}\")"
      ],
      "metadata": {
        "colab": {
          "base_uri": "https://localhost:8080/"
        },
        "id": "jmAN5iA8WQJv",
        "outputId": "1f973eaf-8072-4f45-d380-2b8b56649207"
      },
      "execution_count": 10,
      "outputs": [
        {
          "output_type": "stream",
          "name": "stdout",
          "text": [
            "Detected issue for row 0: 1\n",
            "Recommended solution: Restart the network service.\n"
          ]
        }
      ]
    }
  ],
  "metadata": {
    "colab": {
      "provenance": [],
      "mount_file_id": "1jRxfx_WJsCgxc-zTWbY1eA4w8UV9sCb_",
      "authorship_tag": "ABX9TyNLCxtwO5rOixhzKYf0j8Vu",
      "include_colab_link": true
    },
    "kernelspec": {
      "display_name": "Python 3",
      "name": "python3"
    },
    "language_info": {
      "name": "python"
    }
  },
  "nbformat": 4,
  "nbformat_minor": 0
}