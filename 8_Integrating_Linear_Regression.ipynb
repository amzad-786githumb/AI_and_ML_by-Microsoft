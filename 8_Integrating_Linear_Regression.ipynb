{
  "nbformat": 4,
  "nbformat_minor": 0,
  "metadata": {
    "colab": {
      "provenance": [],
      "authorship_tag": "ABX9TyNTvSYv8VBxjkXhyQ19Qt2m",
      "include_colab_link": true
    },
    "kernelspec": {
      "name": "python3",
      "display_name": "Python 3"
    },
    "language_info": {
      "name": "python"
    }
  },
  "cells": [
    {
      "cell_type": "markdown",
      "metadata": {
        "id": "view-in-github",
        "colab_type": "text"
      },
      "source": [
        "<a href=\"https://colab.research.google.com/github/amzad-786githumb/AI_and_ML_by-Microsoft/blob/main/8_Integrating_Linear_Regression.ipynb\" target=\"_parent\"><img src=\"https://colab.research.google.com/assets/colab-badge.svg\" alt=\"Open In Colab\"/></a>"
      ]
    },
    {
      "cell_type": "markdown",
      "source": [
        "<h2>Tasks: </h2>\n",
        "\n",
        "1.   Set up a linear regression model.\n",
        "2.   Train the model with data.\n",
        "3.   Evaluate the model's performance.\n",
        "\n",
        "\n"
      ],
      "metadata": {
        "id": "tRPIcjtnun9P"
      }
    },
    {
      "cell_type": "markdown",
      "source": [
        "<h3>1. Setting up your environment</h3>"
      ],
      "metadata": {
        "id": "f8k6jhM4vHkU"
      }
    },
    {
      "cell_type": "code",
      "execution_count": 26,
      "metadata": {
        "colab": {
          "base_uri": "https://localhost:8080/"
        },
        "id": "fh2pOiduuRoN",
        "outputId": "bca07b42-4c3f-4fe9-b044-8e0a635a7cef"
      },
      "outputs": [
        {
          "output_type": "stream",
          "name": "stdout",
          "text": [
            "Requirement already satisfied: pandas in /usr/local/lib/python3.12/dist-packages (2.2.2)\n",
            "Requirement already satisfied: numpy in /usr/local/lib/python3.12/dist-packages (2.0.2)\n",
            "Requirement already satisfied: scikit-learn in /usr/local/lib/python3.12/dist-packages (1.6.1)\n",
            "Requirement already satisfied: matplotlib in /usr/local/lib/python3.12/dist-packages (3.10.0)\n",
            "Requirement already satisfied: python-dateutil>=2.8.2 in /usr/local/lib/python3.12/dist-packages (from pandas) (2.9.0.post0)\n",
            "Requirement already satisfied: pytz>=2020.1 in /usr/local/lib/python3.12/dist-packages (from pandas) (2025.2)\n",
            "Requirement already satisfied: tzdata>=2022.7 in /usr/local/lib/python3.12/dist-packages (from pandas) (2025.2)\n",
            "Requirement already satisfied: scipy>=1.6.0 in /usr/local/lib/python3.12/dist-packages (from scikit-learn) (1.16.2)\n",
            "Requirement already satisfied: joblib>=1.2.0 in /usr/local/lib/python3.12/dist-packages (from scikit-learn) (1.5.2)\n",
            "Requirement already satisfied: threadpoolctl>=3.1.0 in /usr/local/lib/python3.12/dist-packages (from scikit-learn) (3.6.0)\n",
            "Requirement already satisfied: contourpy>=1.0.1 in /usr/local/lib/python3.12/dist-packages (from matplotlib) (1.3.3)\n",
            "Requirement already satisfied: cycler>=0.10 in /usr/local/lib/python3.12/dist-packages (from matplotlib) (0.12.1)\n",
            "Requirement already satisfied: fonttools>=4.22.0 in /usr/local/lib/python3.12/dist-packages (from matplotlib) (4.60.1)\n",
            "Requirement already satisfied: kiwisolver>=1.3.1 in /usr/local/lib/python3.12/dist-packages (from matplotlib) (1.4.9)\n",
            "Requirement already satisfied: packaging>=20.0 in /usr/local/lib/python3.12/dist-packages (from matplotlib) (25.0)\n",
            "Requirement already satisfied: pillow>=8 in /usr/local/lib/python3.12/dist-packages (from matplotlib) (11.3.0)\n",
            "Requirement already satisfied: pyparsing>=2.3.1 in /usr/local/lib/python3.12/dist-packages (from matplotlib) (3.2.5)\n",
            "Requirement already satisfied: six>=1.5 in /usr/local/lib/python3.12/dist-packages (from python-dateutil>=2.8.2->pandas) (1.17.0)\n"
          ]
        }
      ],
      "source": [
        "pip install pandas numpy scikit-learn matplotlib"
      ]
    },
    {
      "cell_type": "markdown",
      "source": [
        "<h3>2. Importing required libraries</h3>"
      ],
      "metadata": {
        "id": "xRoArAU7vWhu"
      }
    },
    {
      "cell_type": "code",
      "source": [
        "#importing necessary libraries\n",
        "\n",
        "import pandas as pd\n",
        "import numpy as np\n",
        "from sklearn.model_selection import train_test_split\n",
        "from sklearn.linear_model import LinearRegression\n",
        "from sklearn.metrics import mean_squared_error, r2_score\n",
        "import matplotlib.pyplot as plt"
      ],
      "metadata": {
        "id": "4jB3oSlhvSND"
      },
      "execution_count": 27,
      "outputs": []
    },
    {
      "cell_type": "markdown",
      "source": [
        "<h3>3. Loading and preparing the data</h3>"
      ],
      "metadata": {
        "id": "ZlEYbx5lwF4G"
      }
    },
    {
      "cell_type": "code",
      "source": [
        "# Sample dataset (house prices based on square footage)\n",
        "data = {\n",
        "    'SquareFootage': [1500, 1800, 2400, 3000, 3500, 4000, 4500],\n",
        "    'Price': [200000, 250000, 300000, 350000, 400000, 500000, 600000]\n",
        "}\n",
        "\n",
        "#convert to DataFrame\n",
        "df = pd.DataFrame(data)\n",
        "\n",
        "#display the first few rows of the dataframe\n",
        "print(df.head())"
      ],
      "metadata": {
        "colab": {
          "base_uri": "https://localhost:8080/"
        },
        "id": "uA1Gowa-v8V4",
        "outputId": "5192748d-af7b-48c5-fdf0-375deb96c49c"
      },
      "execution_count": 28,
      "outputs": [
        {
          "output_type": "stream",
          "name": "stdout",
          "text": [
            "   SquareFootage   Price\n",
            "0           1500  200000\n",
            "1           1800  250000\n",
            "2           2400  300000\n",
            "3           3000  350000\n",
            "4           3500  400000\n"
          ]
        }
      ]
    },
    {
      "cell_type": "markdown",
      "source": [
        "<h3>4. Splitting the data into training and testing sets</h3>"
      ],
      "metadata": {
        "id": "eIumX45QwhnV"
      }
    },
    {
      "cell_type": "code",
      "source": [
        "#Feature X and target y\n",
        "X = df[['SquareFootage']]  # Features\n",
        "y = df['Price']            # Target\n",
        "\n",
        "#split data into 80% training and 20% testing\n",
        "X_train, X_test, y_train, y_test = train_test_split(X, y, test_size=0.2, random_state=42)\n",
        "\n",
        "# Display the shape of the training and testing sets\n",
        "print(f\"Training data: {X_train.shape}, {y_train.shape}\")\n",
        "print(f\"Testing data: {X_test.shape}, {y_test.shape}\")"
      ],
      "metadata": {
        "colab": {
          "base_uri": "https://localhost:8080/"
        },
        "id": "PMX9fNw1wbVU",
        "outputId": "ad428731-c103-47ee-d1bc-0c8d1a337e76"
      },
      "execution_count": 29,
      "outputs": [
        {
          "output_type": "stream",
          "name": "stdout",
          "text": [
            "Training data: (5, 1), (5,)\n",
            "Testing data: (2, 1), (2,)\n"
          ]
        }
      ]
    },
    {
      "cell_type": "markdown",
      "source": [
        "<h3>5. Training the linear regression model</h3>"
      ],
      "metadata": {
        "id": "keRCLUX3xTkE"
      }
    },
    {
      "cell_type": "code",
      "source": [
        "#initialize the Linear Regression model\n",
        "model = LinearRegression()\n",
        "\n",
        "#train the model on training data\n",
        "model.fit(X_train, y_train)\n",
        "\n",
        "#display the learned coefficients\n",
        "print(f\"Intercept: {model.intercept_}\")\n",
        "print(f\"Coefficient: {model.coef_[0]}\")"
      ],
      "metadata": {
        "colab": {
          "base_uri": "https://localhost:8080/"
        },
        "id": "GaofXABDxVa4",
        "outputId": "407f4266-4ec1-4dd8-8cdd-ef4ab9aed496"
      },
      "execution_count": 30,
      "outputs": [
        {
          "output_type": "stream",
          "name": "stdout",
          "text": [
            "Intercept: -68611.5214180206\n",
            "Coefficient: 143.2791728212703\n"
          ]
        }
      ]
    },
    {
      "cell_type": "markdown",
      "source": [
        "<h3>6. Making predictions</h3>\n"
      ],
      "metadata": {
        "id": "jOm3gdxRyKTb"
      }
    },
    {
      "cell_type": "code",
      "source": [
        "#make predictions on test data\n",
        "y_pred = model.predict(X_test)\n",
        "\n",
        "#display the predictions\n",
        "print(\"Predicted Prices:\", y_pred)\n",
        "print(\"Actual Prices:\", y_test.values)"
      ],
      "metadata": {
        "colab": {
          "base_uri": "https://localhost:8080/"
        },
        "id": "Znq7y3Stx-SC",
        "outputId": "c53351ca-a91e-4899-8420-895874266d75"
      },
      "execution_count": 31,
      "outputs": [
        {
          "output_type": "stream",
          "name": "stdout",
          "text": [
            "Predicted Prices: [146307.23781388 189290.98966027]\n",
            "Actual Prices: [200000 250000]\n"
          ]
        }
      ]
    },
    {
      "cell_type": "markdown",
      "source": [
        "<h3>7. Evaluating the model</h3>"
      ],
      "metadata": {
        "id": "wx86RMrCywKj"
      }
    },
    {
      "cell_type": "code",
      "source": [
        "# Calculate Mean Squared Error\n",
        "mse = mean_squared_error(y_test, y_pred)\n",
        "\n",
        "# Calculate R-squared\n",
        "r2 = r2_score(y_test, y_pred)\n",
        "\n",
        "# Display the evaluation metrics\n",
        "print(f\"Mean Squared Error: {mse}\")\n",
        "print(f\"R-squared: {r2}\")"
      ],
      "metadata": {
        "colab": {
          "base_uri": "https://localhost:8080/"
        },
        "id": "iugWqhWVyrVk",
        "outputId": "923e54a3-c783-4897-8279-3d745b7309af"
      },
      "execution_count": 32,
      "outputs": [
        {
          "output_type": "stream",
          "name": "stdout",
          "text": [
            "Mean Squared Error: 3284248323.802326\n",
            "R-squared: -4.254797318083722\n"
          ]
        }
      ]
    },
    {
      "cell_type": "markdown",
      "source": [
        "<h3>8. Visualizing the results</h3>"
      ],
      "metadata": {
        "id": "vVatlpJr0BTW"
      }
    },
    {
      "cell_type": "code",
      "source": [
        "# Plot the data points using the entire dataset\n",
        "plt.scatter(X, y, color='blue', label='Actual data')\n",
        "\n",
        "# Predict on the entire dataset for the regression line\n",
        "y_pred_all = model.predict(X)\n",
        "\n",
        "# Plot the regression line\n",
        "plt.plot(X, y_pred_all, color='red', label='Regression Line')\n",
        "\n",
        "# Add labels and titles\n",
        "plt.xlabel(\"Square Footage\")\n",
        "plt.ylabel(\"Price\")\n",
        "plt.title(\"House Price vs. Square Footage\")\n",
        "plt.legend()\n",
        "\n",
        "# Show the plot\n",
        "plt.show()"
      ],
      "metadata": {
        "colab": {
          "base_uri": "https://localhost:8080/",
          "height": 472
        },
        "id": "lc_zDA43zciE",
        "outputId": "26e768d2-4d49-4473-da27-83684a8fc0f7"
      },
      "execution_count": 36,
      "outputs": [
        {
          "output_type": "display_data",
          "data": {
            "text/plain": [
              "<Figure size 640x480 with 1 Axes>"
            ],
            "image/png": "[encoded data removed]"
          },
          "metadata": {}
        }
      ]
    },
    {
      "cell_type": "code",
      "source": [],
      "metadata": {
        "id": "fo2dZele0_bJ"
      },
      "execution_count": 33,
      "outputs": []
    }
  ]
}