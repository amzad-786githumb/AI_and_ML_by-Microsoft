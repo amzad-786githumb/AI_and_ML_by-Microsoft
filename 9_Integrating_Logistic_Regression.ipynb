{
  "nbformat": 4,
  "nbformat_minor": 0,
  "metadata": {
    "colab": {
      "provenance": [],
      "authorship_tag": "ABX9TyMI3wEJICDjX3Z+U8Hb/khQ",
      "include_colab_link": true
    },
    "kernelspec": {
      "name": "python3",
      "display_name": "Python 3"
    },
    "language_info": {
      "name": "python"
    }
  },
  "cells": [
    {
      "cell_type": "markdown",
      "metadata": {
        "id": "view-in-github",
        "colab_type": "text"
      },
      "source": [
        "<a href=\"https://colab.research.google.com/github/amzad-786githumb/AI_and_ML_by-Microsoft/blob/main/9_Integrating_Logistic_Regression.ipynb\" target=\"_parent\"><img src=\"https://colab.research.google.com/assets/colab-badge.svg\" alt=\"Open In Colab\"/></a>"
      ]
    },
    {
      "cell_type": "markdown",
      "source": [
        "<h2>Tasks: </h2>\n",
        "\n",
        "1.   Set up and train a logistic regression model using Scikit-learn.\n",
        "2.   Interpret model outputs and performance metrics such as accuracy and a confusion matrix, also known as an error matrix.\n",
        "3.   Visualize the logistic regression curve and predicted probabilities with Matplotlib.\n",
        "\n",
        "\n"
      ],
      "metadata": {
        "id": "tRPIcjtnun9P"
      }
    },
    {
      "cell_type": "markdown",
      "source": [
        "<h3>1. Setting up your environment</h3>"
      ],
      "metadata": {
        "id": "f8k6jhM4vHkU"
      }
    },
    {
      "cell_type": "code",
      "execution_count": null,
      "metadata": {
        "colab": {
          "base_uri": "https://localhost:8080/"
        },
        "id": "fh2pOiduuRoN",
        "outputId": "bca07b42-4c3f-4fe9-b044-8e0a635a7cef"
      },
      "outputs": [
        {
          "output_type": "stream",
          "name": "stdout",
          "text": [
            "Requirement already satisfied: pandas in /usr/local/lib/python3.12/dist-packages (2.2.2)\n",
            "Requirement already satisfied: numpy in /usr/local/lib/python3.12/dist-packages (2.0.2)\n",
            "Requirement already satisfied: scikit-learn in /usr/local/lib/python3.12/dist-packages (1.6.1)\n",
            "Requirement already satisfied: matplotlib in /usr/local/lib/python3.12/dist-packages (3.10.0)\n",
            "Requirement already satisfied: python-dateutil>=2.8.2 in /usr/local/lib/python3.12/dist-packages (from pandas) (2.9.0.post0)\n",
            "Requirement already satisfied: pytz>=2020.1 in /usr/local/lib/python3.12/dist-packages (from pandas) (2025.2)\n",
            "Requirement already satisfied: tzdata>=2022.7 in /usr/local/lib/python3.12/dist-packages (from pandas) (2025.2)\n",
            "Requirement already satisfied: scipy>=1.6.0 in /usr/local/lib/python3.12/dist-packages (from scikit-learn) (1.16.2)\n",
            "Requirement already satisfied: joblib>=1.2.0 in /usr/local/lib/python3.12/dist-packages (from scikit-learn) (1.5.2)\n",
            "Requirement already satisfied: threadpoolctl>=3.1.0 in /usr/local/lib/python3.12/dist-packages (from scikit-learn) (3.6.0)\n",
            "Requirement already satisfied: contourpy>=1.0.1 in /usr/local/lib/python3.12/dist-packages (from matplotlib) (1.3.3)\n",
            "Requirement already satisfied: cycler>=0.10 in /usr/local/lib/python3.12/dist-packages (from matplotlib) (0.12.1)\n",
            "Requirement already satisfied: fonttools>=4.22.0 in /usr/local/lib/python3.12/dist-packages (from matplotlib) (4.60.1)\n",
            "Requirement already satisfied: kiwisolver>=1.3.1 in /usr/local/lib/python3.12/dist-packages (from matplotlib) (1.4.9)\n",
            "Requirement already satisfied: packaging>=20.0 in /usr/local/lib/python3.12/dist-packages (from matplotlib) (25.0)\n",
            "Requirement already satisfied: pillow>=8 in /usr/local/lib/python3.12/dist-packages (from matplotlib) (11.3.0)\n",
            "Requirement already satisfied: pyparsing>=2.3.1 in /usr/local/lib/python3.12/dist-packages (from matplotlib) (3.2.5)\n",
            "Requirement already satisfied: six>=1.5 in /usr/local/lib/python3.12/dist-packages (from python-dateutil>=2.8.2->pandas) (1.17.0)\n"
          ]
        }
      ],
      "source": [
        "pip install pandas numpy scikit-learn matplotlib"
      ]
    },
    {
      "cell_type": "markdown",
      "source": [
        "<h3>2. Importing required libraries</h3>"
      ],
      "metadata": {
        "id": "xRoArAU7vWhu"
      }
    },
    {
      "cell_type": "code",
      "source": [
        "#importing necessary libraries\n",
        "\n",
        "import pandas as pd\n",
        "import numpy as np\n",
        "from sklearn.model_selection import train_test_split\n",
        "from sklearn.linear_model import LogisticRegression\n",
        "from sklearn.metrics import accuracy_score, confusion_matrix, classification_report\n",
        "from sklearn.preprocessing import StandardScaler\n",
        "import matplotlib.pyplot as plt"
      ],
      "metadata": {
        "id": "4jB3oSlhvSND"
      },
      "execution_count": 6,
      "outputs": []
    },
    {
      "cell_type": "markdown",
      "source": [
        "<h3>3. Loading and preparing the data</h3>"
      ],
      "metadata": {
        "id": "ZlEYbx5lwF4G"
      }
    },
    {
      "cell_type": "code",
      "source": [
        "# Sample dataset: Study hours and whether students passed or failed\n",
        "data = {\n",
        "    'StudyHours': [1, 2, 3, 4, 5, 6, 7, 8, 9, 10],\n",
        "    'Pass': [0, 0, 0, 0, 0, 1, 1, 1, 1, 1]  # 0 = Fail, 1 = Pass\n",
        "}\n",
        "\n",
        "#convert to DataFrame\n",
        "df = pd.DataFrame(data)\n",
        "\n",
        "#display the first few rows of the dataframe\n",
        "print(df.head())"
      ],
      "metadata": {
        "colab": {
          "base_uri": "https://localhost:8080/"
        },
        "id": "uA1Gowa-v8V4",
        "outputId": "31f5654c-38a9-4b2a-c54a-3c956d191096"
      },
      "execution_count": 2,
      "outputs": [
        {
          "output_type": "stream",
          "name": "stdout",
          "text": [
            "   StudyHours  Pass\n",
            "0           1     0\n",
            "1           2     0\n",
            "2           3     0\n",
            "3           4     0\n",
            "4           5     0\n"
          ]
        }
      ]
    },
    {
      "cell_type": "markdown",
      "source": [
        "<h3>4. Splitting the data into training and testing sets</h3>"
      ],
      "metadata": {
        "id": "eIumX45QwhnV"
      }
    },
    {
      "cell_type": "code",
      "source": [
        "#Feature X and target y\n",
        "X = df[['StudyHours']]  # Feature(s)\n",
        "y = df['Pass']          # Target variable (0 = Fail, 1 = Pass)\n",
        "\n",
        "#split data into 80% training and 20% testing\n",
        "X_train, X_test, y_train, y_test = train_test_split(X, y, test_size=0.2, random_state=42)\n",
        "\n",
        "# Display the shape of the training and testing sets\n",
        "print(f\"Training data: {X_train.shape}, {y_train.shape}\")\n",
        "print(f\"Testing data: {X_test.shape}, {y_test.shape}\")"
      ],
      "metadata": {
        "colab": {
          "base_uri": "https://localhost:8080/"
        },
        "id": "PMX9fNw1wbVU",
        "outputId": "f89d518a-2cbc-431b-9348-8fa9001932dc"
      },
      "execution_count": 3,
      "outputs": [
        {
          "output_type": "stream",
          "name": "stdout",
          "text": [
            "Training data: (8, 1), (8,)\n",
            "Testing data: (2, 1), (2,)\n"
          ]
        }
      ]
    },
    {
      "cell_type": "markdown",
      "source": [
        "<h3>5. Training the linear regression model</h3>"
      ],
      "metadata": {
        "id": "keRCLUX3xTkE"
      }
    },
    {
      "cell_type": "code",
      "metadata": {
        "colab": {
          "base_uri": "https://localhost:8080/"
        },
        "id": "33ce0bd8",
        "outputId": "e1bd88eb-287d-4a87-dc6a-ac2abbce6829"
      },
      "source": [
        "# Initialize the StandardScaler\n",
        "scaler = StandardScaler()\n",
        "\n",
        "# Fit the scaler on the training data and transform both training and test data\n",
        "X_train_scaled = scaler.fit_transform(X_train)\n",
        "X_test_scaled = scaler.transform(X_test)\n",
        "\n",
        "# Initialize and train the Logistic Regression model with scaled data\n",
        "model = LogisticRegression()\n",
        "model.fit(X_train_scaled, y_train)\n",
        "\n",
        "# Display the learned coefficients for the scaled model\n",
        "print(f\"Intercept (Scaled Data): {model.intercept_}\")\n",
        "print(f\"Coefficient (Scaled Data): {model.coef_[0]}\")"
      ],
      "execution_count": 7,
      "outputs": [
        {
          "output_type": "stream",
          "name": "stdout",
          "text": [
            "Intercept (Scaled Data): [4.99958589e-17]\n",
            "Coefficient (Scaled Data): [1.29810008]\n"
          ]
        }
      ]
    },
    {
      "cell_type": "markdown",
      "source": [
        "<h3>6. Making predictions</h3>\n"
      ],
      "metadata": {
        "id": "jOm3gdxRyKTb"
      }
    },
    {
      "cell_type": "code",
      "source": [
        "#make predictions on test data\n",
        "y_pred = model.predict(X_test)\n",
        "\n",
        "# Display the predictions\n",
        "print(\"Predicted Outcomes (Pass/Fail):\", y_pred)\n",
        "print(\"Actual Outcomes:\", y_test.values)"
      ],
      "metadata": {
        "colab": {
          "base_uri": "https://localhost:8080/"
        },
        "id": "Znq7y3Stx-SC",
        "outputId": "d3e86f8e-2beb-48e7-c708-e1e7db079132"
      },
      "execution_count": 8,
      "outputs": [
        {
          "output_type": "stream",
          "name": "stdout",
          "text": [
            "Predicted Outcomes (Pass/Fail): [1 1]\n",
            "Actual Outcomes: [1 0]\n"
          ]
        },
        {
          "output_type": "stream",
          "name": "stderr",
          "text": [
            "/usr/local/lib/python3.12/dist-packages/sklearn/utils/validation.py:2732: UserWarning: X has feature names, but LogisticRegression was fitted without feature names\n",
            "  warnings.warn(\n"
          ]
        }
      ]
    },
    {
      "cell_type": "markdown",
      "source": [
        "<h3>7. Evaluating the model</h3>"
      ],
      "metadata": {
        "id": "wx86RMrCywKj"
      }
    },
    {
      "cell_type": "code",
      "source": [
        "# Calculate the accuracy\n",
        "accuracy = accuracy_score(y_test, y_pred)\n",
        "\n",
        "# Generate the Confusion Matrix\n",
        "cm = confusion_matrix(y_test, y_pred)\n",
        "\n",
        "# Generate Classification Repost\n",
        "class_report = classification_report(y_test, y_pred)\n",
        "\n",
        "# Display the evaluation metrics\n",
        "print(f\"Accuracy: {accuracy}\")\n",
        "print(\"Confusion Matrix:\")\n",
        "print(cm)\n",
        "print(\"Classification Report:\")\n",
        "print(class_report)"
      ],
      "metadata": {
        "colab": {
          "base_uri": "https://localhost:8080/"
        },
        "id": "iugWqhWVyrVk",
        "outputId": "a3b508be-613c-451f-9818-284799abeb00"
      },
      "execution_count": 9,
      "outputs": [
        {
          "output_type": "stream",
          "name": "stdout",
          "text": [
            "Accuracy: 0.5\n",
            "Confusion Matrix:\n",
            "[[0 1]\n",
            " [0 1]]\n",
            "Classification Report:\n",
            "              precision    recall  f1-score   support\n",
            "\n",
            "           0       0.00      0.00      0.00         1\n",
            "           1       0.50      1.00      0.67         1\n",
            "\n",
            "    accuracy                           0.50         2\n",
            "   macro avg       0.25      0.50      0.33         2\n",
            "weighted avg       0.25      0.50      0.33         2\n",
            "\n"
          ]
        },
        {
          "output_type": "stream",
          "name": "stderr",
          "text": [
            "/usr/local/lib/python3.12/dist-packages/sklearn/metrics/_classification.py:1565: UndefinedMetricWarning: Precision is ill-defined and being set to 0.0 in labels with no predicted samples. Use `zero_division` parameter to control this behavior.\n",
            "  _warn_prf(average, modifier, f\"{metric.capitalize()} is\", len(result))\n",
            "/usr/local/lib/python3.12/dist-packages/sklearn/metrics/_classification.py:1565: UndefinedMetricWarning: Precision is ill-defined and being set to 0.0 in labels with no predicted samples. Use `zero_division` parameter to control this behavior.\n",
            "  _warn_prf(average, modifier, f\"{metric.capitalize()} is\", len(result))\n",
            "/usr/local/lib/python3.12/dist-packages/sklearn/metrics/_classification.py:1565: UndefinedMetricWarning: Precision is ill-defined and being set to 0.0 in labels with no predicted samples. Use `zero_division` parameter to control this behavior.\n",
            "  _warn_prf(average, modifier, f\"{metric.capitalize()} is\", len(result))\n"
          ]
        }
      ]
    },
    {
      "cell_type": "markdown",
      "source": [
        "<h3>8. Visualizing the results</h3>"
      ],
      "metadata": {
        "id": "vVatlpJr0BTW"
      }
    },
    {
      "cell_type": "code",
      "source": [
        "#Create a range of study hours for plotting\n",
        "study_hours_range = np.linspace(X.min(), X.max(), 100)\n",
        "\n",
        "#calculate predicted probabiltes using sigmoid function\n",
        "y_prob = model.predict_proba(study_hours_range.reshape(-1,1))[:,1]\n",
        "\n",
        "#Plot the actual data points\n",
        "plt.scatter(X_test, y_test, color=\"blue\", label = 'Actual Data')\n",
        "\n",
        "#Plot the logistic regression curve\n",
        "plt.plot(study_hours_range, y_prob, color='red', label='Logistic Regression Curve')\n",
        "\n",
        "# Add labels and title\n",
        "plt.xlabel('Study Hours')\n",
        "plt.ylabel('Probability of Passing')\n",
        "plt.title('Logistic Regression: Study Hours vs. Pass/Fail')\n",
        "plt.legend()\n",
        "\n",
        "# Show the plot\n",
        "plt.show()"
      ],
      "metadata": {
        "colab": {
          "base_uri": "https://localhost:8080/",
          "height": 472
        },
        "id": "lc_zDA43zciE",
        "outputId": "2895e6ea-af15-45e2-bb36-ad683a7e55b7"
      },
      "execution_count": 10,
      "outputs": [
        {
          "output_type": "display_data",
          "data": {
            "text/plain": [
              "<Figure size 640x480 with 1 Axes>"
            ],
            "image/png": "[encoded data removed]"
          },
          "metadata": {}
        }
      ]
    },
    {
      "cell_type": "code",
      "source": [],
      "metadata": {
        "id": "fo2dZele0_bJ"
      },
      "execution_count": null,
      "outputs": []
    }
  ]
}